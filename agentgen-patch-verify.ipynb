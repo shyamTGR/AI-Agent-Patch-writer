{
 "cells": [
  {
   "cell_type": "code",
   "execution_count": 1,
   "id": "8eb7c2be",
   "metadata": {
    "_cell_guid": "eec2b282-90f3-4965-a943-54cffbeb7a5b",
    "_uuid": "38b86f00-408f-4577-b91e-890da62fd434",
    "collapsed": false,
    "execution": {
     "iopub.execute_input": "2025-03-06T17:47:12.497578Z",
     "iopub.status.busy": "2025-03-06T17:47:12.497337Z",
     "iopub.status.idle": "2025-03-06T17:47:12.501560Z",
     "shell.execute_reply": "2025-03-06T17:47:12.500979Z"
    },
    "jupyter": {
     "outputs_hidden": false
    },
    "papermill": {
     "duration": 0.013753,
     "end_time": "2025-03-06T17:47:12.502700",
     "exception": false,
     "start_time": "2025-03-06T17:47:12.488947",
     "status": "completed"
    },
    "tags": []
   },
   "outputs": [],
   "source": [
    "import os\n",
    "\n",
    "# https://www.kaggle.com/competitions/ai-mathematical-olympiad-progress-prize-2/discussion/560682#3113134\n",
    "os.environ[\"TRITON_PTXAS_PATH\"] = \"/usr/local/cuda/bin/ptxas\""
   ]
  },
  {
   "cell_type": "code",
   "execution_count": 2,
   "id": "3cf8261a",
   "metadata": {
    "_cell_guid": "2512bd4d-9caf-4c50-9706-0377f47811ae",
    "_kg_hide-output": true,
    "_uuid": "e9ab5832-846d-4fb5-b21b-532f5962301d",
    "collapsed": false,
    "execution": {
     "iopub.execute_input": "2025-03-06T17:47:12.517055Z",
     "iopub.status.busy": "2025-03-06T17:47:12.516854Z",
     "iopub.status.idle": "2025-03-06T17:47:24.557693Z",
     "shell.execute_reply": "2025-03-06T17:47:24.556996Z"
    },
    "jupyter": {
     "outputs_hidden": false
    },
    "papermill": {
     "duration": 12.049263,
     "end_time": "2025-03-06T17:47:24.559126",
     "exception": false,
     "start_time": "2025-03-06T17:47:12.509863",
     "status": "completed"
    },
    "tags": []
   },
   "outputs": [],
   "source": [
    "import io\n",
    "import time\n",
    "import shutil\n",
    "\n",
    "import pandas as pd\n",
    "import polars as pl\n",
    "\n",
    "import kaggle_evaluation.konwinski_prize_inference_server\n",
    "from typing import List, Tuple, Dict, Optional\n",
    "\n",
    "start_time = time.time()"
   ]
  },
  {
   "cell_type": "markdown",
   "id": "7df3b876",
   "metadata": {
    "_cell_guid": "9b41a507-839f-49ba-bed3-7ec21f5bd402",
    "_uuid": "acfccb6c-54ff-466d-b3ca-dc9d610e1562",
    "collapsed": false,
    "jupyter": {
     "outputs_hidden": false
    },
    "papermill": {
     "duration": 0.006637,
     "end_time": "2025-03-06T17:47:24.573081",
     "exception": false,
     "start_time": "2025-03-06T17:47:24.566444",
     "status": "completed"
    },
    "tags": []
   },
   "source": [
    "The evaluation API requires that you set up a server which will respond to inference requests. We have already defined the server; you just need write the predict function. When we evaluate your submission on the hidden test set the client defined in `konwinski_prize_gateway` will run in a different container with direct access to the hidden test set and hand off the data.\n",
    "#\n",
    "Your code will always have access to the published copies of the files."
   ]
  },
  {
   "cell_type": "code",
   "execution_count": 3,
   "id": "a7f0f58a",
   "metadata": {
    "_cell_guid": "7fce3650-d66d-4189-ac61-51f4e07ac289",
    "_uuid": "f251dce7-62ae-4856-9c05-f5ffe2938eaf",
    "collapsed": false,
    "execution": {
     "iopub.execute_input": "2025-03-06T17:47:24.587691Z",
     "iopub.status.busy": "2025-03-06T17:47:24.587055Z",
     "iopub.status.idle": "2025-03-06T17:47:24.590825Z",
     "shell.execute_reply": "2025-03-06T17:47:24.590244Z"
    },
    "jupyter": {
     "outputs_hidden": false
    },
    "papermill": {
     "duration": 0.012104,
     "end_time": "2025-03-06T17:47:24.591863",
     "exception": false,
     "start_time": "2025-03-06T17:47:24.579759",
     "status": "completed"
    },
    "tags": []
   },
   "outputs": [],
   "source": [
    "instance_count: Optional[int] = None\n",
    "\n",
    "\n",
    "def get_number_of_instances(num_instances: int) -> None:\n",
    "    \"\"\"The very first message from the gateway will be the total number of instances to be served.\n",
    "    You don't need to edit this function.\n",
    "    \"\"\"\n",
    "    global instance_count\n",
    "    instance_count = num_instances"
   ]
  },
  {
   "cell_type": "markdown",
   "id": "adb76006",
   "metadata": {
    "_cell_guid": "e00a129e-16b7-408e-a131-75c4c476b300",
    "_uuid": "370e67e3-a871-42b0-b0a3-ab7bbcf87dcc",
    "collapsed": false,
    "jupyter": {
     "outputs_hidden": false
    },
    "papermill": {
     "duration": 0.006384,
     "end_time": "2025-03-06T17:47:24.604899",
     "exception": false,
     "start_time": "2025-03-06T17:47:24.598515",
     "status": "completed"
    },
    "tags": []
   },
   "source": [
    "# Initialize LLM"
   ]
  },
  {
   "cell_type": "code",
   "execution_count": 4,
   "id": "eaa82e98",
   "metadata": {
    "_cell_guid": "c863b090-e04a-441e-9add-bddae0863ef9",
    "_kg_hide-output": true,
    "_uuid": "eca28397-2a40-4265-b36e-dfa9d80eb2b1",
    "collapsed": false,
    "execution": {
     "iopub.execute_input": "2025-03-06T17:47:24.618676Z",
     "iopub.status.busy": "2025-03-06T17:47:24.618441Z",
     "iopub.status.idle": "2025-03-06T17:52:30.631465Z",
     "shell.execute_reply": "2025-03-06T17:52:30.630681Z"
    },
    "jupyter": {
     "outputs_hidden": false
    },
    "papermill": {
     "duration": 306.021502,
     "end_time": "2025-03-06T17:52:30.632995",
     "exception": false,
     "start_time": "2025-03-06T17:47:24.611493",
     "status": "completed"
    },
    "tags": []
   },
   "outputs": [
    {
     "name": "stdout",
     "output_type": "stream",
     "text": [
      "INFO 03-06 17:48:16 __init__.py:183] Automatically detected platform cuda.\n",
      "INFO 03-06 17:48:49 config.py:526] This model supports multiple tasks: {'generate', 'score', 'classify', 'embed', 'reward'}. Defaulting to 'generate'.\n",
      "INFO 03-06 17:48:52 awq_marlin.py:109] The model is convertible to awq_marlin during runtime. Using awq_marlin kernel.\n",
      "INFO 03-06 17:48:52 config.py:1383] Defaulting to use mp for distributed inference\n",
      "WARNING 03-06 17:48:52 config.py:975] MLA is not supported with awq_marlin quantization. Disabling MLA.\n",
      "INFO 03-06 17:48:52 llm_engine.py:232] Initializing a V0 LLM engine (v0.7.1) with config: model='/kaggle/input/m/shelterw/deepseek-r1/transformers/deepseek-r1-distill-qwen-32b-awq/1', speculative_config=None, tokenizer='/kaggle/input/m/shelterw/deepseek-r1/transformers/deepseek-r1-distill-qwen-32b-awq/1', skip_tokenizer_init=False, tokenizer_mode=auto, revision=None, override_neuron_config=None, tokenizer_revision=None, trust_remote_code=True, dtype=torch.bfloat16, max_seq_len=32768, download_dir=None, load_format=auto, tensor_parallel_size=4, pipeline_parallel_size=1, disable_custom_all_reduce=False, quantization=awq_marlin, enforce_eager=False, kv_cache_dtype=auto,  device_config=cuda, decoding_config=DecodingConfig(guided_decoding_backend='xgrammar'), observability_config=ObservabilityConfig(otlp_traces_endpoint=None, collect_model_forward_time=False, collect_model_execute_time=False), seed=2024, served_model_name=/kaggle/input/m/shelterw/deepseek-r1/transformers/deepseek-r1-distill-qwen-32b-awq/1, num_scheduler_steps=1, multi_step_stream_outputs=True, enable_prefix_caching=False, chunked_prefill_enabled=False, use_async_output_proc=True, disable_mm_preprocessor_cache=False, mm_processor_kwargs=None, pooler_config=None, compilation_config={\"splitting_ops\":[],\"compile_sizes\":[],\"cudagraph_capture_sizes\":[8,4,2,1],\"max_capture_size\":8}, use_cached_outputs=False, \n",
      "WARNING 03-06 17:48:53 multiproc_worker_utils.py:298] Reducing Torch parallelism from 24 threads to 1 to avoid unnecessary CPU contention. Set OMP_NUM_THREADS in the external environment to tune this value as needed.\n",
      "INFO 03-06 17:48:53 custom_cache_manager.py:17] Setting Triton cache manager to: vllm.triton_utils.custom_cache_manager:CustomCacheManager\n",
      "\u001b[1;36m(VllmWorkerProcess pid=359)\u001b[0;0m INFO 03-06 17:48:53 multiproc_worker_utils.py:227] Worker ready; awaiting tasks\n",
      "\u001b[1;36m(VllmWorkerProcess pid=362)\u001b[0;0m INFO 03-06 17:48:53 multiproc_worker_utils.py:227] Worker ready; awaiting tasks\n",
      "\u001b[1;36m(VllmWorkerProcess pid=367)\u001b[0;0m INFO 03-06 17:48:53 multiproc_worker_utils.py:227] Worker ready; awaiting tasks\n",
      "WARNING 03-06 17:48:53 config.py:975] MLA is not supported with awq_marlin quantization. Disabling MLA.\n",
      "\u001b[1;36m(VllmWorkerProcess pid=359)\u001b[0;0m \u001b[1;36m(VllmWorkerProcess pid=362)\u001b[0;0m \u001b[1;36m(VllmWorkerProcess pid=367)\u001b[0;0m WARNING 03-06 17:48:53 config.py:975] MLA is not supported with awq_marlin quantization. Disabling MLA.\n",
      "WARNING 03-06 17:48:53 config.py:975] MLA is not supported with awq_marlin quantization. Disabling MLA.\n",
      "WARNING 03-06 17:48:53 config.py:975] MLA is not supported with awq_marlin quantization. Disabling MLA.\n",
      "INFO 03-06 17:48:53 cuda.py:235] Using Flash Attention backend.\n",
      "\u001b[1;36m(VllmWorkerProcess pid=362)\u001b[0;0m \u001b[1;36m(VllmWorkerProcess pid=359)\u001b[0;0m \u001b[1;36m(VllmWorkerProcess pid=367)\u001b[0;0m INFO 03-06 17:48:53 cuda.py:235] Using Flash Attention backend.\n",
      "INFO 03-06 17:48:53 cuda.py:235] Using Flash Attention backend.\n",
      "INFO 03-06 17:48:53 cuda.py:235] Using Flash Attention backend.\n",
      "INFO 03-06 17:49:05 utils.py:938] Found nccl from library libnccl.so.2\n",
      "INFO 03-06 17:49:05 pynccl.py:67] vLLM is using nccl==2.21.5\n",
      "\u001b[1;36m(VllmWorkerProcess pid=362)\u001b[0;0m \u001b[1;36m(VllmWorkerProcess pid=367)\u001b[0;0m INFO 03-06 17:49:05 utils.py:938] Found nccl from library libnccl.so.2\n",
      "INFO 03-06 17:49:05 utils.py:938] Found nccl from library libnccl.so.2\n",
      "\u001b[1;36m(VllmWorkerProcess pid=362)\u001b[0;0m \u001b[1;36m(VllmWorkerProcess pid=367)\u001b[0;0m INFO 03-06 17:49:05 pynccl.py:67] vLLM is using nccl==2.21.5\n",
      "INFO 03-06 17:49:05 pynccl.py:67] vLLM is using nccl==2.21.5\n",
      "\u001b[1;36m(VllmWorkerProcess pid=359)\u001b[0;0m INFO 03-06 17:49:05 utils.py:938] Found nccl from library libnccl.so.2\n",
      "INFO 03-06 17:49:05 pynccl.py:67] vLLM is using nccl==2.21.5\n",
      "\u001b[1;36m(VllmWorkerProcess pid=359)\u001b[0;0m WARNING 03-06 17:49:05 custom_all_reduce.py:134] Custom allreduce is disabled because it's not supported on more than two PCIe-only GPUs. To silence this warning, specify disable_custom_all_reduce=True explicitly.\n",
      "\u001b[1;36m(VllmWorkerProcess pid=359)\u001b[0;0m \u001b[1;36m(VllmWorkerProcess pid=362)\u001b[0;0m \u001b[1;36m(VllmWorkerProcess pid=367)\u001b[0;0m WARNING 03-06 17:49:05 custom_all_reduce.py:134] Custom allreduce is disabled because it's not supported on more than two PCIe-only GPUs. To silence this warning, specify disable_custom_all_reduce=True explicitly.\n",
      "WARNING 03-06 17:49:05 custom_all_reduce.py:134] Custom allreduce is disabled because it's not supported on more than two PCIe-only GPUs. To silence this warning, specify disable_custom_all_reduce=True explicitly.\n",
      "WARNING 03-06 17:49:05 custom_all_reduce.py:134] Custom allreduce is disabled because it's not supported on more than two PCIe-only GPUs. To silence this warning, specify disable_custom_all_reduce=True explicitly.\n",
      "INFO 03-06 17:49:05 shm_broadcast.py:256] vLLM message queue communication handle: Handle(connect_ip='127.0.0.1', local_reader_ranks=[1, 2, 3], buffer_handle=(3, 4194304, 6, 'psm_33b7bb1a'), local_subscribe_port=44545, remote_subscribe_port=None)\n",
      "INFO 03-06 17:49:06 model_runner.py:1111] Starting to load model /kaggle/input/m/shelterw/deepseek-r1/transformers/deepseek-r1-distill-qwen-32b-awq/1...\n",
      "\u001b[1;36m(VllmWorkerProcess pid=359)\u001b[0;0m \u001b[1;36m(VllmWorkerProcess pid=367)\u001b[0;0m \u001b[1;36m(VllmWorkerProcess pid=362)\u001b[0;0m INFO 03-06 17:49:06 model_runner.py:1111] Starting to load model /kaggle/input/m/shelterw/deepseek-r1/transformers/deepseek-r1-distill-qwen-32b-awq/1...\n",
      "INFO 03-06 17:49:06 model_runner.py:1111] Starting to load model /kaggle/input/m/shelterw/deepseek-r1/transformers/deepseek-r1-distill-qwen-32b-awq/1...\n",
      "INFO 03-06 17:49:06 model_runner.py:1111] Starting to load model /kaggle/input/m/shelterw/deepseek-r1/transformers/deepseek-r1-distill-qwen-32b-awq/1...\n"
     ]
    },
    {
     "data": {
      "application/vnd.jupyter.widget-view+json": {
       "model_id": "2bb0b56d71b942be941f6b80f4a3d47c",
       "version_major": 2,
       "version_minor": 0
      },
      "text/plain": [
       "Loading safetensors checkpoint shards:   0% Completed | 0/4 [00:00<?, ?it/s]\n"
      ]
     },
     "metadata": {},
     "output_type": "display_data"
    },
    {
     "name": "stdout",
     "output_type": "stream",
     "text": [
      "\u001b[1;36m(VllmWorkerProcess pid=367)\u001b[0;0m INFO 03-06 17:51:41 model_runner.py:1116] Loading model weights took 4.5673 GB\n",
      "INFO 03-06 17:51:41 model_runner.py:1116] Loading model weights took 4.5673 GB\n",
      "\u001b[1;36m(VllmWorkerProcess pid=362)\u001b[0;0m \u001b[1;36m(VllmWorkerProcess pid=359)\u001b[0;0m INFO 03-06 17:51:41 model_runner.py:1116] Loading model weights took 4.5673 GB\n",
      "INFO 03-06 17:51:41 model_runner.py:1116] Loading model weights took 4.5673 GB\n",
      "\u001b[1;36m(VllmWorkerProcess pid=359)\u001b[0;0m WARNING 03-06 17:52:21 config.py:975] MLA is not supported with awq_marlin quantization. Disabling MLA.\n",
      "\u001b[1;36m(VllmWorkerProcess pid=359)\u001b[0;0m \u001b[1;36m(VllmWorkerProcess pid=362)\u001b[0;0m WARNING 03-06 17:52:21 config.py:975] MLA is not supported with awq_marlin quantization. Disabling MLA.\n",
      "\u001b[1;36m(VllmWorkerProcess pid=359)\u001b[0;0m WARNING 03-06 17:52:21 config.py:975] MLA is not supported with awq_marlin quantization. Disabling MLA.\n",
      "INFO 03-06 17:52:21 worker.py:266] Memory profiling takes 39.90 seconds\r\n",
      "\u001b[1;36m(VllmWorkerProcess pid=362)\u001b[0;0m \u001b[1;36m(VllmWorkerProcess pid=359)\u001b[0;0m WARNING 03-06 17:52:21 config.py:975] MLA is not supported with awq_marlin quantization. Disabling MLA.\n",
      "INFO 03-06 17:52:21 worker.py:266] the current vLLM instance can use total_gpu_memory (22.28GiB) x gpu_memory_utilization (0.95) = 21.16GiB\r\n",
      "\u001b[1;36m(VllmWorkerProcess pid=362)\u001b[0;0m \u001b[1;36m(VllmWorkerProcess pid=367)\u001b[0;0m \u001b[1;36m(VllmWorkerProcess pid=359)\u001b[0;0m INFO 03-06 17:52:21 worker.py:266] Memory profiling takes 39.91 seconds\r\n",
      "INFO 03-06 17:52:21 worker.py:266] model weights take 4.57GiB; non_torch_memory takes 0.17GiB; PyTorch activation peak memory takes 2.96GiB; the rest of the memory reserved for KV Cache is 13.47GiB.\n",
      "WARNING 03-06 17:52:21 config.py:975] MLA is not supported with awq_marlin quantization. Disabling MLA.\n",
      "\u001b[1;36m(VllmWorkerProcess pid=362)\u001b[0;0m \u001b[1;36m(VllmWorkerProcess pid=367)\u001b[0;0m INFO 03-06 17:52:21 worker.py:266] the current vLLM instance can use total_gpu_memory (22.28GiB) x gpu_memory_utilization (0.95) = 21.16GiB\r\n",
      "WARNING 03-06 17:52:21 config.py:975] MLA is not supported with awq_marlin quantization. Disabling MLA.\n",
      "\u001b[1;36m(VllmWorkerProcess pid=362)\u001b[0;0m \u001b[1;36m(VllmWorkerProcess pid=367)\u001b[0;0m INFO 03-06 17:52:21 worker.py:266] model weights take 4.57GiB; non_torch_memory takes 0.17GiB; PyTorch activation peak memory takes 2.96GiB; the rest of the memory reserved for KV Cache is 13.47GiB.\n",
      "INFO 03-06 17:52:21 worker.py:266] Memory profiling takes 39.91 seconds\r\n",
      "\u001b[1;36m(VllmWorkerProcess pid=367)\u001b[0;0m INFO 03-06 17:52:21 worker.py:266] the current vLLM instance can use total_gpu_memory (22.28GiB) x gpu_memory_utilization (0.95) = 21.16GiB\r\n",
      "\u001b[1;36m(VllmWorkerProcess pid=367)\u001b[0;0m INFO 03-06 17:52:21 worker.py:266] model weights take 4.57GiB; non_torch_memory takes 0.17GiB; PyTorch activation peak memory takes 2.96GiB; the rest of the memory reserved for KV Cache is 13.47GiB.\n",
      "WARNING 03-06 17:52:22 config.py:975] MLA is not supported with awq_marlin quantization. Disabling MLA.\n",
      "WARNING 03-06 17:52:22 config.py:975] MLA is not supported with awq_marlin quantization. Disabling MLA.\n",
      "INFO 03-06 17:52:22 worker.py:266] Memory profiling takes 40.23 seconds\r\n",
      "INFO 03-06 17:52:22 worker.py:266] the current vLLM instance can use total_gpu_memory (22.28GiB) x gpu_memory_utilization (0.95) = 21.16GiB\r\n",
      "INFO 03-06 17:52:22 worker.py:266] model weights take 4.57GiB; non_torch_memory takes 0.17GiB; PyTorch activation peak memory takes 2.96GiB; the rest of the memory reserved for KV Cache is 13.47GiB.\n",
      "INFO 03-06 17:52:22 executor_base.py:108] # CUDA blocks: 13794, # CPU blocks: 4096\n",
      "INFO 03-06 17:52:22 executor_base.py:113] Maximum concurrency for 32768 tokens per request: 6.74x\n",
      "WARNING 03-06 17:52:22 config.py:975] MLA is not supported with awq_marlin quantization. Disabling MLA.\n",
      "WARNING 03-06 17:52:22 config.py:975] MLA is not supported with awq_marlin quantization. Disabling MLA.\n",
      "\u001b[1;36m(VllmWorkerProcess pid=359)\u001b[0;0m \u001b[1;36m(VllmWorkerProcess pid=362)\u001b[0;0m \u001b[1;36m(VllmWorkerProcess pid=367)\u001b[0;0m WARNING 03-06 17:52:22 config.py:975] MLA is not supported with awq_marlin quantization. Disabling MLA.\n",
      "WARNING 03-06 17:52:22 config.py:975] MLA is not supported with awq_marlin quantization. Disabling MLA.\n",
      "WARNING 03-06 17:52:22 config.py:975] MLA is not supported with awq_marlin quantization. Disabling MLA.\n",
      "\u001b[1;36m(VllmWorkerProcess pid=359)\u001b[0;0m \u001b[1;36m(VllmWorkerProcess pid=362)\u001b[0;0m \u001b[1;36m(VllmWorkerProcess pid=367)\u001b[0;0m WARNING 03-06 17:52:22 config.py:975] MLA is not supported with awq_marlin quantization. Disabling MLA.\n",
      "WARNING 03-06 17:52:22 config.py:975] MLA is not supported with awq_marlin quantization. Disabling MLA.\n",
      "WARNING 03-06 17:52:22 config.py:975] MLA is not supported with awq_marlin quantization. Disabling MLA.\n",
      "INFO 03-06 17:52:25 model_runner.py:1435] Capturing cudagraphs for decoding. This may lead to unexpected consequences if the model is not static. To run the model in eager mode, set 'enforce_eager=True' or use '--enforce-eager' in the CLI. If out-of-memory error occurs during cudagraph capture, consider decreasing `gpu_memory_utilization` or switching to eager mode. You can also reduce the `max_num_seqs` as needed to decrease memory usage.\n"
     ]
    },
    {
     "name": "stderr",
     "output_type": "stream",
     "text": [
      "Capturing CUDA graph shapes:   0%|          | 0/4 [00:00<?, ?it/s]"
     ]
    },
    {
     "name": "stdout",
     "output_type": "stream",
     "text": [
      "\u001b[1;36m(VllmWorkerProcess pid=362)\u001b[0;0m \u001b[1;36m(VllmWorkerProcess pid=359)\u001b[0;0m \u001b[1;36m(VllmWorkerProcess pid=367)\u001b[0;0m INFO 03-06 17:52:25 model_runner.py:1435] Capturing cudagraphs for decoding. This may lead to unexpected consequences if the model is not static. To run the model in eager mode, set 'enforce_eager=True' or use '--enforce-eager' in the CLI. If out-of-memory error occurs during cudagraph capture, consider decreasing `gpu_memory_utilization` or switching to eager mode. You can also reduce the `max_num_seqs` as needed to decrease memory usage.\n",
      "INFO 03-06 17:52:25 model_runner.py:1435] Capturing cudagraphs for decoding. This may lead to unexpected consequences if the model is not static. To run the model in eager mode, set 'enforce_eager=True' or use '--enforce-eager' in the CLI. If out-of-memory error occurs during cudagraph capture, consider decreasing `gpu_memory_utilization` or switching to eager mode. You can also reduce the `max_num_seqs` as needed to decrease memory usage.\n",
      "INFO 03-06 17:52:25 model_runner.py:1435] Capturing cudagraphs for decoding. This may lead to unexpected consequences if the model is not static. To run the model in eager mode, set 'enforce_eager=True' or use '--enforce-eager' in the CLI. If out-of-memory error occurs during cudagraph capture, consider decreasing `gpu_memory_utilization` or switching to eager mode. You can also reduce the `max_num_seqs` as needed to decrease memory usage.\n"
     ]
    },
    {
     "name": "stderr",
     "output_type": "stream",
     "text": [
      "Capturing CUDA graph shapes: 100%|██████████| 4/4 [00:04<00:00,  1.22s/it]"
     ]
    },
    {
     "name": "stdout",
     "output_type": "stream",
     "text": [
      "INFO 03-06 17:52:30 model_runner.py:1563] Graph capturing finished in 5 secs, took 0.08 GiB\n",
      "\u001b[1;36m(VllmWorkerProcess pid=362)\u001b[0;0m INFO 03-06 17:52:30 model_runner.py:1563] Graph capturing finished in 5 secs, took 0.08 GiB\n",
      "\u001b[1;36m(VllmWorkerProcess pid=367)\u001b[0;0m \u001b[1;36m(VllmWorkerProcess pid=359)\u001b[0;0m INFO 03-06 17:52:30 model_runner.py:1563] Graph capturing finished in 5 secs, took 0.08 GiB\n",
      "INFO 03-06 17:52:30 model_runner.py:1563] Graph capturing finished in 5 secs, took 0.08 GiB\n",
      "INFO 03-06 17:52:30 llm_engine.py:429] init engine (profile, create kv cache, warmup model) took 48.92 seconds\n"
     ]
    },
    {
     "name": "stderr",
     "output_type": "stream",
     "text": [
      "\n"
     ]
    }
   ],
   "source": [
    "from vllm import LLM, SamplingParams, RequestOutput\n",
    "import warnings\n",
    "\n",
    "warnings.simplefilter(\"ignore\")\n",
    "\n",
    "os.environ[\"CUDA_VISIBLE_DEVICES\"] = \"0,1,2,3\"\n",
    "os.environ[\"TOKENIZERS_PARALLELISM\"] = \"false\"\n",
    "\n",
    "if os.getenv(\"KAGGLE_KERNEL_RUN_TYPE\") or os.getenv(\"KAGGLE_IS_COMPETITION_RERUN\"):\n",
    "    llm_model_pth: str = (\n",
    "        \"/kaggle/input/m/shelterw/deepseek-r1/transformers/deepseek-r1-distill-qwen-32b-awq/1\"\n",
    "    )\n",
    "else:\n",
    "    llm_model_pth: str = \"/root/volume/KirillR/QwQ-32B-Preview-AWQ\"\n",
    "\n",
    "BATCH_SIZE: int = 6\n",
    "VALIDATION_COPY_COUNT: int = 1\n",
    "MAX_TOKENS: int = 4096\n",
    "\n",
    "MAX_NUM_SEQS: int = 6\n",
    "MAX_MODEL_LEN: int = 32_768\n",
    "\n",
    "llm: LLM = LLM(\n",
    "    llm_model_pth,\n",
    "    max_num_seqs=MAX_NUM_SEQS,  # Maximum number of sequences per iteration. Default is 256\n",
    "    max_model_len=MAX_MODEL_LEN,  # Model context length\n",
    "    trust_remote_code=True,  # Trust remote code (e.g., from HuggingFace) when downloading the model and tokenizer\n",
    "    tensor_parallel_size=4,  # The number of GPUs to use for distributed execution with tensor parallelism\n",
    "    gpu_memory_utilization=0.95,  # The ratio (between 0 and 1) of GPU memory to reserve for the model\n",
    "    seed=2024,\n",
    ")"
   ]
  },
  {
   "cell_type": "code",
   "execution_count": 5,
   "id": "e1344dd3",
   "metadata": {
    "_cell_guid": "99e40ae3-6474-4b05-a969-0b48de303ba6",
    "_uuid": "5a982fe4-e4e2-466d-b5bf-4839ec8804c8",
    "collapsed": false,
    "execution": {
     "iopub.execute_input": "2025-03-06T17:52:30.661324Z",
     "iopub.status.busy": "2025-03-06T17:52:30.661052Z",
     "iopub.status.idle": "2025-03-06T17:52:30.664456Z",
     "shell.execute_reply": "2025-03-06T17:52:30.663855Z"
    },
    "jupyter": {
     "outputs_hidden": false
    },
    "papermill": {
     "duration": 0.018333,
     "end_time": "2025-03-06T17:52:30.665462",
     "exception": false,
     "start_time": "2025-03-06T17:52:30.647129",
     "status": "completed"
    },
    "tags": []
   },
   "outputs": [],
   "source": [
    "tokenizer = llm.get_tokenizer()\n",
    "\n",
    "\n",
    "def count_tokens(text: str) -> int:\n",
    "    return len(tokenizer.encode(text))"
   ]
  },
  {
   "cell_type": "markdown",
   "id": "a9adae3f",
   "metadata": {
    "_cell_guid": "3a54e069-fe31-4873-9d25-a02c38576c59",
    "_uuid": "30f587b9-7b4f-4812-82f7-d87787c58d1c",
    "collapsed": false,
    "jupyter": {
     "outputs_hidden": false
    },
    "papermill": {
     "duration": 0.012879,
     "end_time": "2025-03-06T17:52:30.691508",
     "exception": false,
     "start_time": "2025-03-06T17:52:30.678629",
     "status": "completed"
    },
    "tags": []
   },
   "source": [
    "# Helper functions"
   ]
  },
  {
   "cell_type": "code",
   "execution_count": 6,
   "id": "667a4169",
   "metadata": {
    "_cell_guid": "44d40acd-8428-4813-ba5d-62f625309dd4",
    "_uuid": "43546fee-8473-4f0d-80ec-46a86369426b",
    "collapsed": false,
    "execution": {
     "iopub.execute_input": "2025-03-06T17:52:30.718298Z",
     "iopub.status.busy": "2025-03-06T17:52:30.718071Z",
     "iopub.status.idle": "2025-03-06T17:52:30.721862Z",
     "shell.execute_reply": "2025-03-06T17:52:30.721090Z"
    },
    "jupyter": {
     "outputs_hidden": false
    },
    "papermill": {
     "duration": 0.018313,
     "end_time": "2025-03-06T17:52:30.722900",
     "exception": false,
     "start_time": "2025-03-06T17:52:30.704587",
     "status": "completed"
    },
    "tags": []
   },
   "outputs": [],
   "source": [
    "import os\n",
    "\n",
    "\n",
    "def stringify_directory(directory: str) -> str:\n",
    "    full_paths: List[str] = []\n",
    "\n",
    "    for root, dirs, files in os.walk(directory):\n",
    "        for file in files:\n",
    "            full_path: str = os.path.join(root, file)\n",
    "            full_paths.append(full_path)\n",
    "    return \"\\n\".join(full_paths)"
   ]
  },
  {
   "cell_type": "code",
   "execution_count": 7,
   "id": "aed42a57",
   "metadata": {
    "_cell_guid": "50b46124-4395-4783-b523-f11f4b6228bf",
    "_uuid": "47b13790-f9e8-47cd-8b78-c93567e04b56",
    "collapsed": false,
    "execution": {
     "iopub.execute_input": "2025-03-06T17:52:30.749464Z",
     "iopub.status.busy": "2025-03-06T17:52:30.749248Z",
     "iopub.status.idle": "2025-03-06T17:52:30.754869Z",
     "shell.execute_reply": "2025-03-06T17:52:30.754238Z"
    },
    "jupyter": {
     "outputs_hidden": false
    },
    "papermill": {
     "duration": 0.020041,
     "end_time": "2025-03-06T17:52:30.755913",
     "exception": false,
     "start_time": "2025-03-06T17:52:30.735872",
     "status": "completed"
    },
    "tags": []
   },
   "outputs": [],
   "source": [
    "import re\n",
    "\n",
    "\n",
    "def extract_file_query(xml_content: str) -> Dict[str, List[str]]:\n",
    "    import xml.etree.ElementTree as ET\n",
    "\n",
    "    # Prepare a data structure to collect results\n",
    "    parsed_data: Dict[str, List[str]] = {}\n",
    "    pattern: str = r\"<root>(.*?)</root>\"\n",
    "    matches: List[str] = re.findall(pattern, xml_content, re.DOTALL)\n",
    "\n",
    "    for match in matches:\n",
    "        try:\n",
    "            # Parse the XML\n",
    "            root = ET.fromstring(\"<root>\" + match + \"</root>\")\n",
    "\n",
    "            # Find all <entry> elements\n",
    "            for entry in root.findall(\"entry\"):\n",
    "                # Extract the <filepath> text\n",
    "                filepath = entry.find(\"filepath\")\n",
    "                filepath_text: Optional[str] = (\n",
    "                    filepath.text.strip()\n",
    "                    if filepath is not None and filepath.text is not None\n",
    "                    else None\n",
    "                )\n",
    "\n",
    "                # Locate <strings_to_search> container\n",
    "                strings_container = entry.find(\"strings_to_search\")\n",
    "\n",
    "                # Gather each <string_to_search> text\n",
    "                search_strings: List[str] = []\n",
    "                if strings_container is not None:\n",
    "                    for s in strings_container.findall(\"string_to_search\"):\n",
    "                        if s.text is not None:\n",
    "                            search_strings.append(s.text.strip())\n",
    "\n",
    "                # Store in a dictionary: { filepath: [search_strings...] }\n",
    "                parsed_data[filepath_text] = search_strings  # type: ignore\n",
    "        except:\n",
    "            print(\"Error parsing output\")\n",
    "            print(xml_content)\n",
    "            return {}\n",
    "\n",
    "    return parsed_data"
   ]
  },
  {
   "cell_type": "code",
   "execution_count": 8,
   "id": "b85d71a2",
   "metadata": {
    "_cell_guid": "a636bf5a-ec3a-4113-8504-bc95550036ef",
    "_uuid": "b6264935-32cf-49b5-b1da-aece43dbf184",
    "collapsed": false,
    "execution": {
     "iopub.execute_input": "2025-03-06T17:52:30.782634Z",
     "iopub.status.busy": "2025-03-06T17:52:30.782387Z",
     "iopub.status.idle": "2025-03-06T17:52:30.789377Z",
     "shell.execute_reply": "2025-03-06T17:52:30.788807Z"
    },
    "jupyter": {
     "outputs_hidden": false
    },
    "papermill": {
     "duration": 0.021537,
     "end_time": "2025-03-06T17:52:30.790416",
     "exception": false,
     "start_time": "2025-03-06T17:52:30.768879",
     "status": "completed"
    },
    "tags": []
   },
   "outputs": [],
   "source": [
    "reading_prompt: str = (\n",
    "    \"\"\"\n",
    "You will be implementing a git diff patch to solve an issue with the code repository.\n",
    "You will first need to select files in the file directory.\n",
    "\n",
    "This is the problem statement.\n",
    "\n",
    "{problem_statement}\n",
    "\n",
    "This is the file directory\n",
    "\n",
    "<directory>\n",
    "{directory_string}\n",
    "</directory>\n",
    "\n",
    "Which files should be inspected so that we can solve the problem?\n",
    "When we inspect each file, what strings should be searched?\n",
    "\n",
    "Return the strings to search in this format\n",
    "\n",
    "(explanation)\n",
    "\n",
    "<root>\n",
    "    <entry>\n",
    "        <filepath>filepath</filepath>  \n",
    "        <strings_to_search>\n",
    "            <string_to_search>string_to_search</string_to_search>\n",
    "            ...\n",
    "            <string_to_search>string_to_search</string_to_search>\n",
    "        </strings_to_search>\n",
    "    </entry>\n",
    "    <entry>\n",
    "        <filepath>filepath</filepath>\n",
    "        <strings_to_search>\n",
    "            <string_to_search>string_to_search</string_to_search>\n",
    "            ...\n",
    "            <string_to_search>string_to_search</string_to_search>\n",
    "        </strings_to_search>\n",
    "    </entry>\n",
    "    ...\n",
    "</root>\n",
    "...\n",
    "\n",
    "Notes:\n",
    "- Make sure to encode each entry between <root> and </root>\n",
    "- Return the FULL filepath - exactly as specified in <directory> and </directory>\n",
    "    - Example: <filepath>repo/path/to/directory/file.py</filepath>\n",
    "- If you are searching for a word instead of a substring, maybe add spaces or brackets before and after the string\n",
    "    - For example, if you are searching for uses of the function `calculate`, use ` calculate(` as the search string instead of `calculate`\n",
    "- Prefer searching longer strings\n",
    "    - Avoid searching for strings that might appear in many parts of the codebase\n",
    "- Search the test files as well to understand the feature behavior\n",
    "    - Also search for the relevant function calls in the test files\n",
    "\"\"\".strip()\n",
    ")\n",
    "\n",
    "\n",
    "def get_selection_query(\n",
    "    directory_string: str, problem_statement: str\n",
    ") -> Tuple[List[str], List[Dict[str, List[str]]]]:\n",
    "    sampling_params: SamplingParams = SamplingParams(\n",
    "        temperature=0.6,  # randomness of the sampling\n",
    "        min_p=0.01,\n",
    "        skip_special_tokens=True,  # Whether to skip special tokens in the output\n",
    "        max_tokens=MAX_TOKENS,\n",
    "    )\n",
    "\n",
    "    list_of_messages: List[List[Dict[str, str]]] = [\n",
    "        [\n",
    "            {\n",
    "                \"role\": \"user\",\n",
    "                \"content\": reading_prompt.format(\n",
    "                    problem_statement=problem_statement[:20_000],\n",
    "                    directory_string=directory_string[:30_000],\n",
    "                ),\n",
    "            },\n",
    "        ]\n",
    "        for _ in range(BATCH_SIZE)\n",
    "    ]\n",
    "\n",
    "    prompt_texts: List[str] = [\n",
    "        (\n",
    "            tokenizer.apply_chat_template(\n",
    "                conversation=messages, tokenize=False, add_generation_prompt=True\n",
    "            )  # type: ignore\n",
    "        )\n",
    "        + \"<think>\\n\"\n",
    "        for messages in list_of_messages\n",
    "    ]\n",
    "    # print(prompt_texts)\n",
    "\n",
    "    print(\"get_selection_query\", [count_tokens(text) for text in prompt_texts])\n",
    "    request_outputs: list[RequestOutput] = llm.generate(\n",
    "        prompt_texts, sampling_params=sampling_params\n",
    "    )\n",
    "    if not request_outputs:\n",
    "        return [], []\n",
    "    response_texts: List[str] = [\n",
    "        request_output.outputs[0].text for request_output in request_outputs\n",
    "    ]\n",
    "    print(\"get_selection_query\", [count_tokens(text) for text in response_texts])\n",
    "\n",
    "    completion_texts = [\n",
    "        prompt_text + response_text\n",
    "        for prompt_text, response_text in zip(prompt_texts, response_texts)\n",
    "    ]\n",
    "    file_queries: List[Dict[str, List[str]]] = [\n",
    "        extract_file_query(response_text) for response_text in response_texts\n",
    "    ]\n",
    "    return completion_texts, file_queries"
   ]
  },
  {
   "cell_type": "code",
   "execution_count": 9,
   "id": "99a48a0e",
   "metadata": {
    "_cell_guid": "2e6aebd6-10e8-4769-98dc-4e89aaf35b41",
    "_uuid": "f8ae44f3-2595-4c78-b58a-6551c0fec3a8",
    "collapsed": false,
    "execution": {
     "iopub.execute_input": "2025-03-06T17:52:30.817113Z",
     "iopub.status.busy": "2025-03-06T17:52:30.816896Z",
     "iopub.status.idle": "2025-03-06T17:52:30.831852Z",
     "shell.execute_reply": "2025-03-06T17:52:30.831264Z"
    },
    "jupyter": {
     "outputs_hidden": false
    },
    "papermill": {
     "duration": 0.029443,
     "end_time": "2025-03-06T17:52:30.832840",
     "exception": false,
     "start_time": "2025-03-06T17:52:30.803397",
     "status": "completed"
    },
    "tags": []
   },
   "outputs": [],
   "source": [
    "REPO_PATH: str = \"repo\"\n",
    "\n",
    "\n",
    "def fetch_file_contents(\n",
    "    files_to_search: Dict[str, List[str]], context_lines: int = 12, max_gap: int = 0\n",
    ") -> str:\n",
    "    from io import StringIO\n",
    "    from typing import Tuple\n",
    "\n",
    "    def find_lines_in_files_with_context(\n",
    "        search_map: Dict[str, List[str]], context_lines: int = context_lines\n",
    "    ) -> List[List[List[Tuple[int, str]]]]:\n",
    "        \"\"\"\n",
    "        Given a dictionary mapping file paths to a list of search terms,\n",
    "        open each file and gather *snippets* of lines that contain any\n",
    "        of those search terms, including 'context_lines' before and after.\n",
    "\n",
    "        Returns a list of lists:\n",
    "        [\n",
    "          [  # For file1\n",
    "             [ (line_number, text), (line_number, text), ... ],\n",
    "             [ ... ],\n",
    "          ],\n",
    "          [  # For file2\n",
    "             ...\n",
    "          ],\n",
    "          ...\n",
    "        ]\n",
    "        \"\"\"\n",
    "        all_matches_per_file: List[List[List[Tuple[int, str]]]] = []\n",
    "\n",
    "        for path, terms in search_map.items():\n",
    "            if not os.path.isfile(path):\n",
    "                # If the file is not found, record an empty list\n",
    "                all_matches_per_file.append([])\n",
    "                continue\n",
    "\n",
    "            with open(path, \"r\", encoding=\"utf-8\", errors=\"replace\") as f:\n",
    "                lines = f.readlines()\n",
    "\n",
    "            file_snippets: List[List[Tuple[int, str]]] = []\n",
    "            num_lines: int = len(lines)\n",
    "\n",
    "            for i, line in enumerate(lines, start=1):\n",
    "                if any(t in line for t in terms):\n",
    "                    start_idx: int = max(1, i - context_lines)\n",
    "                    end_idx: int = min(num_lines, i + context_lines)\n",
    "                    snippet: List[Tuple[int, str]] = []\n",
    "                    for snippet_no in range(start_idx, end_idx + 1):\n",
    "                        text_content: str = lines[snippet_no - 1].rstrip(\"\\n\")\n",
    "                        snippet.append((snippet_no, text_content))\n",
    "                    file_snippets.append(snippet)\n",
    "\n",
    "            all_matches_per_file.append(file_snippets)\n",
    "\n",
    "        return all_matches_per_file\n",
    "\n",
    "    # ---------------------------------------------------------\n",
    "    # 3. MERGE OVERLAPPING/ADJACENT SNIPPETS\n",
    "    # ---------------------------------------------------------\n",
    "\n",
    "    def merge_file_snippets(\n",
    "        file_snippets: List[List[Tuple[int, str]]], gap: int = 0\n",
    "    ) -> List[List[Tuple[int, str]]]:\n",
    "        \"\"\"\n",
    "        Merge overlapping or nearly adjacent snippets in a single file’s snippet list.\n",
    "        \"\"\"\n",
    "        intervals: List[Tuple[int, int, List[Tuple[int, str]]]] = []\n",
    "        for snippet in file_snippets:\n",
    "            if snippet:\n",
    "                start_line: int = snippet[0][0]\n",
    "                end_line: int = snippet[-1][0]\n",
    "                intervals.append((start_line, end_line, snippet))\n",
    "\n",
    "        intervals.sort(key=lambda x: x[0])  # sort by start line\n",
    "\n",
    "        merged: List[Tuple[int, int, List[Tuple[int, str]]]] = []\n",
    "        for start, end, snippet in intervals:\n",
    "            if not merged:\n",
    "                merged.append((start, end, snippet))\n",
    "                continue\n",
    "\n",
    "            prev_start, prev_end, prev_snippet = merged[-1]\n",
    "            if start <= prev_end + gap:\n",
    "                new_end: int = max(end, prev_end)\n",
    "                combined_dict: Dict[int, str] = {}\n",
    "                for ln, txt in prev_snippet:\n",
    "                    combined_dict[ln] = txt\n",
    "                for ln, txt in snippet:\n",
    "                    combined_dict[ln] = txt\n",
    "                merged_snippet: List[Tuple[int, str]] = [\n",
    "                    (ln, combined_dict[ln]) for ln in sorted(combined_dict)\n",
    "                ]\n",
    "                merged[-1] = (prev_start, new_end, merged_snippet)\n",
    "            else:\n",
    "                merged.append((start, end, snippet))\n",
    "\n",
    "        # Extract just the merged snippet portion\n",
    "        return [x[2] for x in merged]\n",
    "\n",
    "    def merge_all_snippets(\n",
    "        all_files_snips: List[List[List[Tuple[int, str]]]], gap: int = 0\n",
    "    ) -> List[List[List[Tuple[int, str]]]]:\n",
    "        \"\"\"\n",
    "        Merge snippet blocks within each file.\n",
    "        all_files_snips is a list-of-lists:\n",
    "          [\n",
    "            [ snippetA, snippetB, ... ],  # file 1\n",
    "            [ snippetC, snippetD, ... ],  # file 2\n",
    "          ]\n",
    "        \"\"\"\n",
    "        merged: List[List[List[Tuple[int, str]]]] = []\n",
    "        for snips in all_files_snips:\n",
    "            merged.append(merge_file_snippets(snips, gap=gap))\n",
    "        return merged\n",
    "\n",
    "    # ---------------------------------------------------------\n",
    "    # 4. RUN LOGIC: generate files, search, merge, and BUILD A STRING\n",
    "    # ---------------------------------------------------------\n",
    "\n",
    "    has_any_matches: bool = False\n",
    "\n",
    "    # 1) Gather snippets around each match\n",
    "    context_snippets: List[List[List[Tuple[int, str]]]] = (\n",
    "        find_lines_in_files_with_context(files_to_search, context_lines=context_lines)\n",
    "    )\n",
    "\n",
    "    # 2) Merge overlapping snippets\n",
    "    merged_snips: List[List[List[Tuple[int, str]]]] = merge_all_snippets(\n",
    "        context_snippets, gap=max_gap\n",
    "    )\n",
    "\n",
    "    # 3) Build a string (instead of printing)\n",
    "    output = StringIO()\n",
    "\n",
    "    # Header\n",
    "    output.write(\"Sample files created successfully.\\n\\n\")\n",
    "    output.write(\"Search Results (by file, merging any overlapping context):\\n\\n\")\n",
    "\n",
    "    # For each file\n",
    "    for (filepath, terms), snippet_list in zip(files_to_search.items(), merged_snips):\n",
    "        output.write(f\"[file name]: {filepath[len(REPO_PATH) + 1:]}\\n\")\n",
    "        terms_searched_as_str = \"\\n\".join(terms)\n",
    "        output.write(f\"[terms searched]:\\n{terms_searched_as_str}\\n\")\n",
    "        output.write(\"[file content begin]\\n\")\n",
    "        if not snippet_list:\n",
    "            output.write(\"  No matches found.\\n\")\n",
    "        else:\n",
    "            has_any_matches = True\n",
    "            for snippet_idx, snippet in enumerate(snippet_list, start=1):\n",
    "                snippet_start: int = snippet[0][0]\n",
    "                snippet_end: int = snippet[-1][0]\n",
    "                output.write(\n",
    "                    f\"\\nMatch #{snippet_idx}, lines {snippet_start} to {snippet_end}:\\n\"\n",
    "                )\n",
    "                for line_no, text in snippet:\n",
    "                    output.write(f\"  {line_no:3d} | {text}\\n\")\n",
    "                output.write(\"\\n\")\n",
    "        output.write(\"[file content end]\\n\\n\")\n",
    "\n",
    "    file_content_string: str = output.getvalue()\n",
    "\n",
    "    if has_any_matches:\n",
    "        return file_content_string\n",
    "    return \"\""
   ]
  },
  {
   "cell_type": "code",
   "execution_count": 10,
   "id": "9a168244",
   "metadata": {
    "_cell_guid": "a2564919-7162-4711-a5c6-92077938254f",
    "_uuid": "5dcae870-2699-4110-956b-121c8687bfa9",
    "collapsed": false,
    "execution": {
     "iopub.execute_input": "2025-03-06T17:52:30.859558Z",
     "iopub.status.busy": "2025-03-06T17:52:30.859327Z",
     "iopub.status.idle": "2025-03-06T17:52:30.862554Z",
     "shell.execute_reply": "2025-03-06T17:52:30.861963Z"
    },
    "jupyter": {
     "outputs_hidden": false
    },
    "papermill": {
     "duration": 0.017672,
     "end_time": "2025-03-06T17:52:30.863604",
     "exception": false,
     "start_time": "2025-03-06T17:52:30.845932",
     "status": "completed"
    },
    "tags": []
   },
   "outputs": [],
   "source": [
    "import re\n",
    "\n",
    "def extract_patch_string(text: str) -> Optional[str]:\n",
    "    pattern: str = r\"\\n```diff\\n(.*?)\\n```\"\n",
    "    matches: List[str] = re.findall(pattern, text, re.DOTALL)\n",
    "    if not matches:\n",
    "        return None\n",
    "    return matches[-1] + \"\\n\""
   ]
  },
  {
   "cell_type": "code",
   "execution_count": 11,
   "id": "69116074",
   "metadata": {
    "_cell_guid": "2000b5e2-13f3-4b86-8743-4aff8a950f2c",
    "_uuid": "3229d17a-0142-4003-8b3c-ba42ae72d4d9",
    "collapsed": false,
    "execution": {
     "iopub.execute_input": "2025-03-06T17:52:30.890297Z",
     "iopub.status.busy": "2025-03-06T17:52:30.890082Z",
     "iopub.status.idle": "2025-03-06T17:52:30.897523Z",
     "shell.execute_reply": "2025-03-06T17:52:30.896940Z"
    },
    "jupyter": {
     "outputs_hidden": false
    },
    "papermill": {
     "duration": 0.021816,
     "end_time": "2025-03-06T17:52:30.898519",
     "exception": false,
     "start_time": "2025-03-06T17:52:30.876703",
     "status": "completed"
    },
    "tags": []
   },
   "outputs": [],
   "source": [
    "patching_prompt: str = (\n",
    "    \"\"\"\n",
    "You will be implementing a git diff patch to solve an issue with the code repository.\n",
    "This is the problem statement.\n",
    "\n",
    "{problem_statement}\n",
    "\n",
    "These are the files that is thought to be relevant\n",
    "\n",
    "{file_content_string}\n",
    "\n",
    "Write a git diff within ```diff and ``` that fully fixes the problem.\n",
    "The git diff should not cause other tests to fail.\n",
    "\n",
    "Example:\n",
    "\n",
    "```diff\n",
    "--- a/first.txt\n",
    "+++ b/first.txt\n",
    "@@ -1,3 +1,3 @@\n",
    " start\n",
    "-first change\n",
    "+new first change\n",
    " middle\n",
    "@@ -7,4 +7,4 @@\n",
    " some content\n",
    "-second change\n",
    "+new second change\n",
    " more content\n",
    "--- a/second.txt\n",
    "+++ b/second.txt\n",
    "@@ -1,3 +1,3 @@\n",
    " beginning\n",
    "-old line\n",
    "+new line\n",
    " end\n",
    "```\n",
    "\n",
    "Reminder\n",
    "- Put your diff within ```diff and ``` and make sure the diff is valid.\n",
    "- Only the last diff printed will be considered.\n",
    "\"\"\".strip()\n",
    ")\n",
    "\n",
    "import re\n",
    "\n",
    "\n",
    "def get_patch_string(\n",
    "    problem_statement: str, file_content_strings: List[str]\n",
    ") -> Tuple[List[str], List[Optional[str]]]:\n",
    "    sampling_params: SamplingParams = SamplingParams(\n",
    "        temperature=0.6,  # randomness of the sampling\n",
    "        min_p=0.01,\n",
    "        skip_special_tokens=True,  # Whether to skip special tokens in the output\n",
    "        max_tokens=MAX_TOKENS,\n",
    "    )\n",
    "\n",
    "    inference_idx_to_input_idx: list[int] = [\n",
    "        input_idx\n",
    "        for input_idx, file_content_string in enumerate(file_content_strings)\n",
    "        if file_content_string != \"\"\n",
    "    ]\n",
    "\n",
    "    list_of_messages: List[List[Dict[str, str]]] = [\n",
    "        [\n",
    "            {\n",
    "                \"role\": \"user\",\n",
    "                \"content\": patching_prompt.format(\n",
    "                    problem_statement=problem_statement[:20_000],\n",
    "                    file_content_string=file_content_strings[input_idx][:30_000],\n",
    "                ),\n",
    "            },\n",
    "        ]\n",
    "        for input_idx in inference_idx_to_input_idx\n",
    "    ]\n",
    "\n",
    "    prompt_texts: List[str] = [\n",
    "        (\n",
    "            tokenizer.apply_chat_template(\n",
    "                conversation=messages, tokenize=False, add_generation_prompt=True\n",
    "            )  # type: ignore\n",
    "        )\n",
    "        + \"<think>\\n\"\n",
    "        for messages in list_of_messages\n",
    "    ]\n",
    "    # print(prompt_texts)\n",
    "\n",
    "    print(\"get_patch_string\", [count_tokens(text) for text in prompt_texts])\n",
    "    request_outputs: list[RequestOutput] = llm.generate(\n",
    "        prompt_texts, sampling_params=sampling_params\n",
    "    )\n",
    "    response_texts_from_inference: List[str] = [\n",
    "        request_output.outputs[0].text for request_output in request_outputs\n",
    "    ]\n",
    "    print(\n",
    "        \"get_patch_string\",\n",
    "        [count_tokens(text) for text in response_texts_from_inference],\n",
    "    )\n",
    "    completion_texts_from_inference = [\n",
    "        prompt_text + response_text\n",
    "        for prompt_text, response_text in zip(\n",
    "            prompt_texts, response_texts_from_inference\n",
    "        )\n",
    "    ]\n",
    "    patch_strings_from_inference: List[Optional[str]] = [\n",
    "        extract_patch_string(response_text)\n",
    "        for response_text in response_texts_from_inference\n",
    "    ]\n",
    "\n",
    "    completion_texts: list[str] = [\"\" for _ in file_content_strings]\n",
    "    patch_strings: List[Optional[str]] = [None for _ in file_content_strings]\n",
    "    for inference_idx, (completion_text, patch_string) in enumerate(\n",
    "        zip(completion_texts_from_inference, patch_strings_from_inference)\n",
    "    ):\n",
    "        input_idx = inference_idx_to_input_idx[inference_idx]\n",
    "        completion_texts[input_idx] = completion_text\n",
    "        patch_strings[input_idx] = patch_string\n",
    "\n",
    "    return completion_texts, patch_strings"
   ]
  },
  {
   "cell_type": "code",
   "execution_count": 12,
   "id": "c062e148",
   "metadata": {
    "_cell_guid": "b7e7aec9-62b4-4dc2-af35-b8f01bdcff73",
    "_uuid": "5f229582-95fc-48d2-ac8e-27e71fd5e4c9",
    "collapsed": false,
    "execution": {
     "iopub.execute_input": "2025-03-06T17:52:30.925295Z",
     "iopub.status.busy": "2025-03-06T17:52:30.925079Z",
     "iopub.status.idle": "2025-03-06T17:52:30.935765Z",
     "shell.execute_reply": "2025-03-06T17:52:30.935159Z"
    },
    "jupyter": {
     "outputs_hidden": false
    },
    "papermill": {
     "duration": 0.025135,
     "end_time": "2025-03-06T17:52:30.936726",
     "exception": false,
     "start_time": "2025-03-06T17:52:30.911591",
     "status": "completed"
    },
    "tags": []
   },
   "outputs": [],
   "source": [
    "from pathlib import Path\n",
    "\n",
    "verifying_prompt: str = (\n",
    "    \"\"\"\n",
    "This is the problem statement.\n",
    "\n",
    "{problem_statement}\n",
    "\n",
    "These are the files that is thought to be relevant, which may not be complete.\n",
    "\n",
    "{file_content_string}\n",
    "\n",
    "This is the proposed patch to fix the problem.\n",
    "\n",
    "{patch_string}\n",
    "\n",
    "Evaluate whether the patch works\n",
    "- The patch fully fixes the problem described in the problem statement.\n",
    "- The patch does not cause side effects and make any other tests fail.\n",
    "\n",
    "End your response with exactly either of\n",
    "- <label>Yes</label>, if absolutely confident that this fixes the problem.\n",
    "- <label>No</label>, this does not fix the problem or if you are unsure.\n",
    "\n",
    "Reminder\n",
    "- Only evaluate, do not provide suggestion on how to fix.\n",
    "- Remember to write exactly either of <label>Yes</label> or <label>No</label> in the last line\n",
    "\"\"\".strip()\n",
    ")\n",
    "\n",
    "\n",
    "def is_valid_patch_format(patch_string: str) -> bool:\n",
    "    \"\"\"\n",
    "    A quick check to confirm if a patch could be valid.\n",
    "    \"\"\"\n",
    "    if not(isinstance(patch_string, str)):\n",
    "        return False\n",
    "    try:\n",
    "        patch_set = unidiff.PatchSet(patch_string)\n",
    "        if len(patch_set) == 0:\n",
    "            return False\n",
    "    except Exception:\n",
    "        return False\n",
    "    return True\n",
    "\n",
    "\n",
    "def patch_dry_run_succeeds(patch_string: str, repo_path: str = REPO_PATH, timeout: int = 60) -> bool:\n",
    "    \"\"\"\n",
    "    A robust check if the patch will proceed without any errors.\n",
    "    Should be run after `is_valid_patch_format()`: the patch\n",
    "    command can hang if the inputs are sufficiently invalid.\n",
    "\n",
    "    Args:\n",
    "        patch_path: Path to a file containing the patch.\n",
    "        repo_path: Path to the directory to be patched.\n",
    "        timeout: Number of seconds before the dry run will be cancelled.\n",
    "    \"\"\"\n",
    "    with open(\"patch.txt\", \"w\") as f:\n",
    "        f.write(patch_string)\n",
    "    patch_path = \"/kaggle/working/patch.txt\"\n",
    "\n",
    "    cmd = f\"patch --quiet --dry-run -p1 -i {patch_path} -d {repo_path}\"\n",
    "    try:\n",
    "        subprocess.run(cmd, shell=True, check=True, timeout=timeout)\n",
    "        return True\n",
    "    except subprocess.CalledProcessError:\n",
    "        return False\n",
    "\n",
    "\n",
    "def get_verification(\n",
    "    problem_statement: str,\n",
    "    file_content_strings: List[str],\n",
    "    patch_strings: List[Optional[str]],\n",
    "    repo_path: str,\n",
    ") -> Tuple[List[List[str]], List[List[bool]]]:\n",
    "    assert len(file_content_strings) == len(patch_strings)\n",
    "    sampling_params: SamplingParams = SamplingParams(\n",
    "        temperature=0.6,  # randomness of the sampling\n",
    "        min_p=0.01,\n",
    "        skip_special_tokens=True,  # Whether to skip special tokens in the output\n",
    "        max_tokens=MAX_TOKENS,\n",
    "    )\n",
    "\n",
    "    inference_idx_to_input_idx: list[int] = [\n",
    "        input_idx\n",
    "        for _ in range(VALIDATION_COPY_COUNT)\n",
    "        for input_idx, patch_string in enumerate(patch_strings)\n",
    "        if patch_string is not None and is_valid_patch_format(patch_string) # and patch_dry_run_succeeds(patch_string, repo_path)\n",
    "    ]\n",
    "    print(inference_idx_to_input_idx)\n",
    "\n",
    "    list_of_messages: List[List[Dict[str, str]]] = [\n",
    "        [\n",
    "            {\n",
    "                \"role\": \"user\",\n",
    "                \"content\": verifying_prompt.format(\n",
    "                    problem_statement=problem_statement[:20_000],\n",
    "                    file_content_string=file_content_strings[input_idx][:30_000],\n",
    "                    patch_string=patch_strings[input_idx],\n",
    "                ),\n",
    "            },\n",
    "        ]\n",
    "        for input_idx in inference_idx_to_input_idx\n",
    "    ]\n",
    "\n",
    "    prompt_texts: List[str] = [\n",
    "        (\n",
    "            tokenizer.apply_chat_template(\n",
    "                conversation=messages, tokenize=False, add_generation_prompt=True\n",
    "            )  # type: ignore\n",
    "        )\n",
    "        + \"<think>\\n\"\n",
    "        for messages in list_of_messages\n",
    "    ]\n",
    "    # print(prompt_texts)\n",
    "\n",
    "    print(\"get_verification\", [count_tokens(text) for text in prompt_texts])\n",
    "    request_outputs: list[RequestOutput] = llm.generate(\n",
    "        prompt_texts, sampling_params=sampling_params\n",
    "    )\n",
    "    response_texts: List[str] = [\n",
    "        request_output.outputs[0].text for request_output in request_outputs\n",
    "    ]\n",
    "    print(\"get_verification\", [count_tokens(text) for text in response_texts])\n",
    "\n",
    "    completion_texts = [\n",
    "        prompt_text + response_text\n",
    "        for prompt_text, response_text in zip(prompt_texts, response_texts)\n",
    "    ]\n",
    "    judgments_flattened: List[bool] = [\n",
    "        \"<label>Yes</label>\" in response_text for response_text in response_texts\n",
    "    ]\n",
    "    print(judgments_flattened)\n",
    "\n",
    "    judgments_aggregated: List[List[bool]] = [[] for _ in file_content_strings]\n",
    "    completion_text_aggregated: List[List[str]] = [[] for _ in patch_strings]\n",
    "    for inference_idx, (completion_text, judgement) in enumerate(\n",
    "        zip(completion_texts, judgments_flattened)\n",
    "    ):\n",
    "        input_idx = inference_idx_to_input_idx[inference_idx]\n",
    "        completion_text_aggregated[input_idx].append(completion_text)\n",
    "        judgments_aggregated[input_idx].append(judgement)\n",
    "    print(judgments_aggregated)\n",
    "\n",
    "    return completion_text_aggregated, judgments_aggregated"
   ]
  },
  {
   "cell_type": "code",
   "execution_count": 13,
   "id": "3c616813",
   "metadata": {
    "_cell_guid": "9814b304-d64c-4d61-b1d7-a4ab7b85496f",
    "_uuid": "ac627a45-b48c-4bc3-b3e8-ff0ee18b3fc6",
    "collapsed": false,
    "execution": {
     "iopub.execute_input": "2025-03-06T17:52:30.963365Z",
     "iopub.status.busy": "2025-03-06T17:52:30.963150Z",
     "iopub.status.idle": "2025-03-06T17:52:30.970154Z",
     "shell.execute_reply": "2025-03-06T17:52:30.969587Z"
    },
    "jupyter": {
     "outputs_hidden": false
    },
    "papermill": {
     "duration": 0.021433,
     "end_time": "2025-03-06T17:52:30.971154",
     "exception": false,
     "start_time": "2025-03-06T17:52:30.949721",
     "status": "completed"
    },
    "tags": []
   },
   "outputs": [],
   "source": [
    "import unidiff\n",
    "import subprocess\n",
    "\n",
    "\n",
    "class AdaptiveConfidence:\n",
    "    def __init__(self, window_size=10, min_threshold=2, max_threshold=5):\n",
    "        self.history = []\n",
    "        self.window_size = window_size\n",
    "        self.min_threshold = min_threshold\n",
    "        self.max_threshold = max_threshold\n",
    "\n",
    "    def update(self, was_correct: bool):\n",
    "        \"\"\"Update history with 1 for correct patches, 0 otherwise\"\"\"\n",
    "        self.history.append(1 if was_correct else 0)\n",
    "        if len(self.history) > self.window_size:\n",
    "            self.history.pop(0)\n",
    "\n",
    "    def get_threshold(self) -> int:\n",
    "        \"\"\"Dynamically adjust skipping threshold based on recent performance\"\"\"\n",
    "        success_rate = sum(self.history) / max(1, len(self.history))\n",
    "        if success_rate > 0.8:\n",
    "            return self.min_threshold  # Be aggressive in submissions\n",
    "        elif success_rate > 0.5:\n",
    "            return self.min_threshold + 1\n",
    "        else:\n",
    "            return self.max_threshold  # Be cautious if success rate is low\n",
    "\n",
    "\n",
    "# Global adaptive confidence tracker\n",
    "adaptive_confidence = AdaptiveConfidence()\n",
    "\n",
    "\n",
    "def choose_patch_string(\n",
    "    patch_strings: list[Optional[str]], judgments_aggregated: List[List[bool]], repo_path: str\n",
    ") -> tuple[list[int], Optional[str]]:\n",
    "    best_score = -4\n",
    "    best_patch_string = None\n",
    "    scores = []\n",
    "\n",
    "    confidence_threshold = adaptive_confidence.get_threshold()  # Dynamically get threshold\n",
    "\n",
    "    for judgments, patch_string in zip(judgments_aggregated, patch_strings):\n",
    "\n",
    "        if patch_string is None:\n",
    "            scores.append(-3)\n",
    "            continue\n",
    "\n",
    "        if not is_valid_patch_format(patch_string):\n",
    "            scores.append(-2)\n",
    "            continue\n",
    "\n",
    "        if not patch_dry_run_succeeds(patch_string, repo_path):\n",
    "            scores.append(-1)\n",
    "            continue\n",
    "\n",
    "        score = judgments.count(True)\n",
    "        scores.append(score)\n",
    "\n",
    "        if score > best_score:\n",
    "            best_score = score\n",
    "            best_patch_string = patch_string\n",
    "\n",
    "    # **Skip issues where confidence is too low**\n",
    "    if best_score < confidence_threshold:\n",
    "        print(f\"Skipping issue due to low confidence (Threshold: {confidence_threshold})\")\n",
    "        return scores, None  # Explicitly skip the issue\n",
    "\n",
    "    # Update confidence history (if patch is chosen)\n",
    "    adaptive_confidence.update(best_score >= confidence_threshold)\n",
    "\n",
    "    return scores, best_patch_string\n"
   ]
  },
  {
   "cell_type": "markdown",
   "id": "191c15be",
   "metadata": {
    "_cell_guid": "d0812f8b-c4aa-47f0-a3be-36d135908ffc",
    "_uuid": "332ef3ee-d385-4103-8c68-d547dda443bf",
    "collapsed": false,
    "jupyter": {
     "outputs_hidden": false
    },
    "papermill": {
     "duration": 0.012783,
     "end_time": "2025-03-06T17:52:30.997027",
     "exception": false,
     "start_time": "2025-03-06T17:52:30.984244",
     "status": "completed"
    },
    "tags": []
   },
   "source": [
    "# Predict function"
   ]
  },
  {
   "cell_type": "code",
   "execution_count": 14,
   "id": "c97372b2",
   "metadata": {
    "_cell_guid": "41d164a7-440a-4b3d-b82b-9473575c89a4",
    "_uuid": "d5aa7692-14fa-46cb-81aa-4a05d2990df4",
    "collapsed": false,
    "execution": {
     "iopub.execute_input": "2025-03-06T17:52:31.023638Z",
     "iopub.status.busy": "2025-03-06T17:52:31.023395Z",
     "iopub.status.idle": "2025-03-06T17:52:31.029703Z",
     "shell.execute_reply": "2025-03-06T17:52:31.029120Z"
    },
    "jupyter": {
     "outputs_hidden": false
    },
    "papermill": {
     "duration": 0.020696,
     "end_time": "2025-03-06T17:52:31.030705",
     "exception": false,
     "start_time": "2025-03-06T17:52:31.010009",
     "status": "completed"
    },
    "tags": []
   },
   "outputs": [],
   "source": [
    "def predict_inner(problem_statement: str, directory: str) -> Optional[str]:\n",
    "    directory_string = stringify_directory(directory)\n",
    "\n",
    "    selection_completion_texts, file_queries = get_selection_query(\n",
    "        directory_string, problem_statement\n",
    "    )\n",
    "\n",
    "    file_content_strings: List[str] = [\n",
    "        fetch_file_contents(file_query) for file_query in file_queries\n",
    "    ]\n",
    "\n",
    "    patch_completion_texts, patch_strings = get_patch_string(\n",
    "        problem_statement, file_content_strings\n",
    "    )\n",
    "\n",
    "    verification_completion_texts_aggregated, judgments_aggregated = get_verification(\n",
    "        problem_statement, file_content_strings, patch_strings, directory\n",
    "    )\n",
    "\n",
    "    scores, patch_string = choose_patch_string(patch_strings, judgments_aggregated, directory)\n",
    "\n",
    "    if not os.getenv(\"KAGGLE_IS_COMPETITION_RERUN\"):\n",
    "        data = {\n",
    "            \"problem_statement\": [problem_statement] * len(file_queries),\n",
    "            \"selection_completion_text\": selection_completion_texts,\n",
    "            \"selection_completion_length\": [\n",
    "                count_tokens(completion_text)\n",
    "                for completion_text in selection_completion_texts\n",
    "            ],\n",
    "            \"file_query\": file_queries,\n",
    "            \"file_content_string\": file_content_strings,\n",
    "            \"patch_completion_text\": patch_completion_texts,\n",
    "            \"patch_completion_length\": [\n",
    "                count_tokens(completion_text)\n",
    "                for completion_text in patch_completion_texts\n",
    "            ],\n",
    "            \"patch_string\": patch_strings,\n",
    "        }\n",
    "\n",
    "        for copy_idx in range(VALIDATION_COPY_COUNT):\n",
    "            data[f\"verification_completion_text_{copy_idx}\"] = [\n",
    "                completion_texts[copy_idx] if completion_texts else None\n",
    "                for completion_texts in verification_completion_texts_aggregated\n",
    "            ]\n",
    "            data[f\"verification_completion_length_{copy_idx}\"] = [\n",
    "                count_tokens(completion_texts[copy_idx]) if completion_texts else None\n",
    "                for completion_texts in verification_completion_texts_aggregated\n",
    "            ]\n",
    "            data[f\"judgment_{copy_idx}\"] = [\n",
    "                judgments[copy_idx] if judgments else None\n",
    "                for judgments in judgments_aggregated\n",
    "            ]\n",
    "\n",
    "        data[\"judgment_count_true\"] = [judgments.count(True) for judgments in judgments_aggregated]\n",
    "        data[\"score\"] = scores\n",
    "\n",
    "        pd.DataFrame(data).to_csv(\n",
    "            f\"{str(int(time.time() - start_time)).zfill(5)}.csv\", index=False\n",
    "        )\n",
    "\n",
    "    return patch_string"
   ]
  },
  {
   "cell_type": "code",
   "execution_count": 15,
   "id": "91785ca5",
   "metadata": {
    "_cell_guid": "f6603ce1-36ca-4c32-b6b7-55d970a38851",
    "_uuid": "1fe33c0a-f4bb-4d58-a31a-8a35efed47f4",
    "collapsed": false,
    "execution": {
     "iopub.execute_input": "2025-03-06T17:52:31.057328Z",
     "iopub.status.busy": "2025-03-06T17:52:31.057113Z",
     "iopub.status.idle": "2025-03-06T17:52:31.061992Z",
     "shell.execute_reply": "2025-03-06T17:52:31.061414Z"
    },
    "jupyter": {
     "outputs_hidden": false
    },
    "papermill": {
     "duration": 0.019336,
     "end_time": "2025-03-06T17:52:31.063047",
     "exception": false,
     "start_time": "2025-03-06T17:52:31.043711",
     "status": "completed"
    },
    "tags": []
   },
   "outputs": [],
   "source": [
    "import io\n",
    "from typing import Optional, List\n",
    "\n",
    "skip_prediction: bool = False\n",
    "\n",
    "\n",
    "def predict(\n",
    "    problem_statement: str,\n",
    "    repo_archive: io.BytesIO,\n",
    "    pip_packages_archive: io.BytesIO,\n",
    "    env_setup_cmds_templates: List[str],\n",
    ") -> Optional[str]:\n",
    "    \"\"\"Replace this function with your inference code.\n",
    "    Args:\n",
    "        problem_statement: The text of the git issue.\n",
    "        repo_archive: A BytesIO buffer path with a .tar containing the codebase that must be patched. The gateway will make this directory available immediately before this function runs.\n",
    "    \"\"\"\n",
    "    global skip_prediction\n",
    "    if skip_prediction:\n",
    "        return None\n",
    "\n",
    "    with open(\"repo_archive.tar\", \"wb\") as f:\n",
    "        f.write(repo_archive.read())\n",
    "    repo_path: str = REPO_PATH\n",
    "    if os.path.exists(repo_path):\n",
    "        shutil.rmtree(repo_path)\n",
    "    shutil.unpack_archive(\"repo_archive.tar\", extract_dir=repo_path)\n",
    "    os.remove(\"repo_archive.tar\")\n",
    "\n",
    "    patch_string: Optional[str] = None\n",
    "    patch_string = predict_inner(\n",
    "        problem_statement=problem_statement, directory=repo_path\n",
    "    )\n",
    "    shutil.rmtree(repo_path)\n",
    "\n",
    "    if not os.getenv(\"KAGGLE_IS_COMPETITION_RERUN\"):\n",
    "        skip_prediction = True\n",
    "\n",
    "    print(\"submitted patch_string\")\n",
    "    print(patch_string)\n",
    "\n",
    "    if patch_string is None:\n",
    "        return None\n",
    "\n",
    "    return patch_string"
   ]
  },
  {
   "cell_type": "markdown",
   "id": "bdb800af",
   "metadata": {
    "_cell_guid": "81b9a808-f41a-4715-aafc-73184d4cc947",
    "_uuid": "ec5157f3-fc1a-4944-a94b-d472995e12cd",
    "collapsed": false,
    "jupyter": {
     "outputs_hidden": false
    },
    "papermill": {
     "duration": 0.012764,
     "end_time": "2025-03-06T17:52:31.088893",
     "exception": false,
     "start_time": "2025-03-06T17:52:31.076129",
     "status": "completed"
    },
    "tags": []
   },
   "source": [
    "# Get predict data without server"
   ]
  },
  {
   "cell_type": "code",
   "execution_count": 16,
   "id": "fa6fc1f5",
   "metadata": {
    "_cell_guid": "91157abf-a02f-47f2-b6b2-64057f65adaa",
    "_uuid": "6d66b2c6-91e0-4652-b671-a2534be7e103",
    "collapsed": false,
    "execution": {
     "iopub.execute_input": "2025-03-06T17:52:31.115473Z",
     "iopub.status.busy": "2025-03-06T17:52:31.115247Z",
     "iopub.status.idle": "2025-03-06T17:52:36.457999Z",
     "shell.execute_reply": "2025-03-06T17:52:36.457179Z"
    },
    "jupyter": {
     "outputs_hidden": false
    },
    "papermill": {
     "duration": 5.357556,
     "end_time": "2025-03-06T17:52:36.459459",
     "exception": false,
     "start_time": "2025-03-06T17:52:31.101903",
     "status": "completed"
    },
    "tags": []
   },
   "outputs": [],
   "source": [
    "import os\n",
    "import zipfile\n",
    "\n",
    "# !mkdir -p /kaggle/tmp/konwinski-prize-alt\n",
    "os.makedirs(\"/kaggle/tmp/konwinski-prize-alt\", exist_ok=True)\n",
    "\n",
    "# !unzip -q -o /kaggle/input/konwinski-prize/data.a_zip -d /kaggle/tmp/konwinski-prize-alt/ 2>/dev/null || true\n",
    "try:\n",
    "    with zipfile.ZipFile(\"/kaggle/input/konwinski-prize/data.a_zip\", \"r\") as zip_ref:\n",
    "        zip_ref.extractall(\"/kaggle/tmp/konwinski-prize-alt/\")\n",
    "except:\n",
    "    pass"
   ]
  },
  {
   "cell_type": "code",
   "execution_count": 17,
   "id": "ca301839",
   "metadata": {
    "_cell_guid": "eb711b99-4aff-48a8-8512-a00e18923f41",
    "_uuid": "46af49a7-33eb-4d09-9830-7c96f125cae4",
    "collapsed": false,
    "execution": {
     "iopub.execute_input": "2025-03-06T17:52:36.486997Z",
     "iopub.status.busy": "2025-03-06T17:52:36.486742Z",
     "iopub.status.idle": "2025-03-06T17:52:36.491186Z",
     "shell.execute_reply": "2025-03-06T17:52:36.490592Z"
    },
    "jupyter": {
     "outputs_hidden": false
    },
    "papermill": {
     "duration": 0.019153,
     "end_time": "2025-03-06T17:52:36.492217",
     "exception": false,
     "start_time": "2025-03-06T17:52:36.473064",
     "status": "completed"
    },
    "tags": []
   },
   "outputs": [],
   "source": [
    "import pandas as pd\n",
    "\n",
    "\n",
    "def get_problem(problem_index: int) -> Tuple[str, str, io.BytesIO]:\n",
    "    df = pd.read_parquet(\"/kaggle/tmp/konwinski-prize-alt/data/data.parquet\")\n",
    "\n",
    "    problem_statement: str = df[\"problem_statement\"][problem_index]\n",
    "    repo_path: str = (\n",
    "        f\"/kaggle/tmp/konwinski-prize-alt/data/repos/repo__{df['instance_id'][problem_index]}\"\n",
    "    )\n",
    "\n",
    "    import shutil\n",
    "    import tempfile\n",
    "\n",
    "    with tempfile.TemporaryDirectory() as tmpdir:\n",
    "        shutil.make_archive(os.path.join(tmpdir, \"a_repo\"), \"tar\", repo_path)\n",
    "        with open(os.path.join(tmpdir, \"a_repo.tar\"), \"rb\") as f:\n",
    "            repo_archive = io.BytesIO(f.read())\n",
    "\n",
    "    return problem_statement, repo_path, repo_archive"
   ]
  },
  {
   "cell_type": "code",
   "execution_count": 18,
   "id": "0bf993c1",
   "metadata": {
    "_cell_guid": "61fe4186-964b-4385-8837-e2f33c44c722",
    "_uuid": "71445695-cf75-4bdf-bf38-e9d5fdc7c07c",
    "collapsed": false,
    "execution": {
     "iopub.execute_input": "2025-03-06T17:52:36.518891Z",
     "iopub.status.busy": "2025-03-06T17:52:36.518660Z",
     "iopub.status.idle": "2025-03-06T17:52:36.522295Z",
     "shell.execute_reply": "2025-03-06T17:52:36.521737Z"
    },
    "jupyter": {
     "outputs_hidden": false
    },
    "papermill": {
     "duration": 0.017998,
     "end_time": "2025-03-06T17:52:36.523304",
     "exception": false,
     "start_time": "2025-03-06T17:52:36.505306",
     "status": "completed"
    },
    "tags": []
   },
   "outputs": [
    {
     "data": {
      "text/plain": [
       "'demo_problem_index: int = 0\\n\\nif os.getenv(\"KAGGLE_KERNEL_RUN_TYPE\") == \"Interactive\" and not os.getenv(\\n    \"KAGGLE_IS_COMPETITION_RERUN\"\\n):\\n    problem_statement, repo_path, repo_archive = get_problem(\\n        problem_index=demo_problem_index\\n    )\\n\\n    print(repo_path)\\n    print(problem_statement)\\n    print(len(list(repo_archive)))\\n    print(len(list(repo_archive)))'"
      ]
     },
     "execution_count": 18,
     "metadata": {},
     "output_type": "execute_result"
    }
   ],
   "source": [
    "\"\"\"demo_problem_index: int = 0\n",
    "\n",
    "if os.getenv(\"KAGGLE_KERNEL_RUN_TYPE\") == \"Interactive\" and not os.getenv(\n",
    "    \"KAGGLE_IS_COMPETITION_RERUN\"\n",
    "):\n",
    "    problem_statement, repo_path, repo_archive = get_problem(\n",
    "        problem_index=demo_problem_index\n",
    "    )\n",
    "\n",
    "    print(repo_path)\n",
    "    print(problem_statement)\n",
    "    print(len(list(repo_archive)))\n",
    "    print(len(list(repo_archive)))\"\"\""
   ]
  },
  {
   "cell_type": "code",
   "execution_count": 19,
   "id": "e52b7d4f",
   "metadata": {
    "_cell_guid": "ce7abf42-5abe-41b4-aca7-3c7302749713",
    "_kg_hide-output": true,
    "_uuid": "40eac664-ddd7-462d-b9a2-6a65353e8b5a",
    "collapsed": false,
    "execution": {
     "iopub.execute_input": "2025-03-06T17:52:36.550115Z",
     "iopub.status.busy": "2025-03-06T17:52:36.549897Z",
     "iopub.status.idle": "2025-03-06T17:52:36.553237Z",
     "shell.execute_reply": "2025-03-06T17:52:36.552682Z"
    },
    "jupyter": {
     "outputs_hidden": false
    },
    "papermill": {
     "duration": 0.017762,
     "end_time": "2025-03-06T17:52:36.554230",
     "exception": false,
     "start_time": "2025-03-06T17:52:36.536468",
     "status": "completed"
    },
    "tags": []
   },
   "outputs": [
    {
     "data": {
      "text/plain": [
       "'if os.getenv(\"KAGGLE_KERNEL_RUN_TYPE\") == \"Interactive\" and not os.getenv(\\n    \"KAGGLE_IS_COMPETITION_RERUN\"\\n):\\n    skip_prediction = False\\n    problem_statement, repo_path, repo_archive = get_problem(\\n        problem_index=demo_problem_index\\n    )\\n    patch_string = predict(problem_statement, repo_archive, io.BytesIO(), [])'"
      ]
     },
     "execution_count": 19,
     "metadata": {},
     "output_type": "execute_result"
    }
   ],
   "source": [
    "\"\"\"if os.getenv(\"KAGGLE_KERNEL_RUN_TYPE\") == \"Interactive\" and not os.getenv(\n",
    "    \"KAGGLE_IS_COMPETITION_RERUN\"\n",
    "):\n",
    "    skip_prediction = False\n",
    "    problem_statement, repo_path, repo_archive = get_problem(\n",
    "        problem_index=demo_problem_index\n",
    "    )\n",
    "    patch_string = predict(problem_statement, repo_archive, io.BytesIO(), [])\"\"\""
   ]
  },
  {
   "cell_type": "code",
   "execution_count": 20,
   "id": "24514ea1",
   "metadata": {
    "_cell_guid": "11968fc9-c39e-4088-b953-74ea01632ad3",
    "_uuid": "c00544c0-d176-4d48-a025-6cbac48576ec",
    "collapsed": false,
    "execution": {
     "iopub.execute_input": "2025-03-06T17:52:36.581309Z",
     "iopub.status.busy": "2025-03-06T17:52:36.581093Z",
     "iopub.status.idle": "2025-03-06T17:52:36.584595Z",
     "shell.execute_reply": "2025-03-06T17:52:36.584011Z"
    },
    "jupyter": {
     "outputs_hidden": false
    },
    "papermill": {
     "duration": 0.018177,
     "end_time": "2025-03-06T17:52:36.585683",
     "exception": false,
     "start_time": "2025-03-06T17:52:36.567506",
     "status": "completed"
    },
    "tags": []
   },
   "outputs": [
    {
     "data": {
      "text/plain": [
       "'if (\\n    os.getenv(\"KAGGLE_KERNEL_RUN_TYPE\") == \"Interactive\"\\n    and not os.getenv(\"KAGGLE_IS_COMPETITION_RERUN\")\\n    and patch_string is not None\\n):\\n    import polars as pl\\n\\n    df = pl.read_parquet(\"/kaggle/tmp/konwinski-prize-alt/data/data.parquet\")\\n\\n    import kaggle_evaluation.konwinski_prize_gateway\\n\\n    k_prize_gateway = kaggle_evaluation.konwinski_prize_gateway.KPrizeGateway()\\n    k_prize_gateway.unpack_data_paths()\\n\\n    results = k_prize_gateway._evaluate_instance(\\n        instance=df.row(demo_problem_index, named=True),\\n        patch=patch_string,\\n    )\\n\\n    from collections import Counter\\n    print(\\n        demo_problem_index, Counter(result.unit_test_outcome for result in results[1:])\\n    )'"
      ]
     },
     "execution_count": 20,
     "metadata": {},
     "output_type": "execute_result"
    }
   ],
   "source": [
    "\"\"\"if (\n",
    "    os.getenv(\"KAGGLE_KERNEL_RUN_TYPE\") == \"Interactive\"\n",
    "    and not os.getenv(\"KAGGLE_IS_COMPETITION_RERUN\")\n",
    "    and patch_string is not None\n",
    "):\n",
    "    import polars as pl\n",
    "\n",
    "    df = pl.read_parquet(\"/kaggle/tmp/konwinski-prize-alt/data/data.parquet\")\n",
    "\n",
    "    import kaggle_evaluation.konwinski_prize_gateway\n",
    "\n",
    "    k_prize_gateway = kaggle_evaluation.konwinski_prize_gateway.KPrizeGateway()\n",
    "    k_prize_gateway.unpack_data_paths()\n",
    "\n",
    "    results = k_prize_gateway._evaluate_instance(\n",
    "        instance=df.row(demo_problem_index, named=True),\n",
    "        patch=patch_string,\n",
    "    )\n",
    "\n",
    "    from collections import Counter\n",
    "    print(\n",
    "        demo_problem_index, Counter(result.unit_test_outcome for result in results[1:])\n",
    "    )\"\"\""
   ]
  },
  {
   "cell_type": "code",
   "execution_count": 21,
   "id": "59171543",
   "metadata": {
    "_cell_guid": "74a18506-0c71-4c43-828e-ac63c9f066a0",
    "_uuid": "db5f7042-adf4-42c0-918e-cdb9031cd545",
    "collapsed": false,
    "execution": {
     "iopub.execute_input": "2025-03-06T17:52:36.613485Z",
     "iopub.status.busy": "2025-03-06T17:52:36.613272Z",
     "iopub.status.idle": "2025-03-06T17:52:36.616774Z",
     "shell.execute_reply": "2025-03-06T17:52:36.616188Z"
    },
    "jupyter": {
     "outputs_hidden": false
    },
    "papermill": {
     "duration": 0.018681,
     "end_time": "2025-03-06T17:52:36.617892",
     "exception": false,
     "start_time": "2025-03-06T17:52:36.599211",
     "status": "completed"
    },
    "tags": []
   },
   "outputs": [
    {
     "data": {
      "text/plain": [
       "'if (\\n    os.getenv(\"KAGGLE_KERNEL_RUN_TYPE\") == \"Interactive\"\\n    and not os.getenv(\"KAGGLE_IS_COMPETITION_RERUN\")\\n    and patch_string is not None\\n):\\n    from kaggle_evaluation.konwinski_prize_gateway import UnitTestOutcome\\n\\n    for result in results[1:]:\\n        if result.unit_test_outcome != UnitTestOutcome.PASSED:\\n            print(result.test_name)\\n            print(result.fail_description)'"
      ]
     },
     "execution_count": 21,
     "metadata": {},
     "output_type": "execute_result"
    }
   ],
   "source": [
    "\"\"\"if (\n",
    "    os.getenv(\"KAGGLE_KERNEL_RUN_TYPE\") == \"Interactive\"\n",
    "    and not os.getenv(\"KAGGLE_IS_COMPETITION_RERUN\")\n",
    "    and patch_string is not None\n",
    "):\n",
    "    from kaggle_evaluation.konwinski_prize_gateway import UnitTestOutcome\n",
    "\n",
    "    for result in results[1:]:\n",
    "        if result.unit_test_outcome != UnitTestOutcome.PASSED:\n",
    "            print(result.test_name)\n",
    "            print(result.fail_description)\"\"\"\n",
    "            "
   ]
  },
  {
   "cell_type": "markdown",
   "id": "1eb024c8",
   "metadata": {
    "_cell_guid": "3c0427bb-5570-4314-83bd-bc17d09fe3c7",
    "_uuid": "3547dec1-18d2-49b0-8c08-ac09d8193723",
    "collapsed": false,
    "jupyter": {
     "outputs_hidden": false
    },
    "papermill": {
     "duration": 0.013512,
     "end_time": "2025-03-06T17:52:36.645355",
     "exception": false,
     "start_time": "2025-03-06T17:52:36.631843",
     "status": "completed"
    },
    "tags": []
   },
   "source": [
    "When your notebook is run on the hidden test set, inference_server.serve must be called within 15 minutes of the notebook starting or the gateway will throw an error. If you need more than 15 minutes to load your model you can do so during the very first predict call, which does not have the usual 30 minute response deadline."
   ]
  },
  {
   "cell_type": "markdown",
   "id": "febac08d",
   "metadata": {
    "_cell_guid": "ac0ac0e2-d8c1-4e8b-8415-ae41b202d87d",
    "_uuid": "c6870d06-100c-4160-9cf5-311910a84007",
    "collapsed": false,
    "jupyter": {
     "outputs_hidden": false
    },
    "papermill": {
     "duration": 0.013617,
     "end_time": "2025-03-06T17:52:36.672800",
     "exception": false,
     "start_time": "2025-03-06T17:52:36.659183",
     "status": "completed"
    },
    "tags": []
   },
   "source": [
    "# Evaluation with inference server"
   ]
  },
  {
   "cell_type": "code",
   "execution_count": 22,
   "id": "13b30511",
   "metadata": {
    "_cell_guid": "697c6852-96c5-4c3f-85af-64b340b1c65c",
    "_uuid": "6a96bb2f-85cc-4b37-b044-1ecbf8422efd",
    "collapsed": false,
    "execution": {
     "iopub.execute_input": "2025-03-06T17:52:36.700455Z",
     "iopub.status.busy": "2025-03-06T17:52:36.700207Z",
     "iopub.status.idle": "2025-03-06T17:52:36.703034Z",
     "shell.execute_reply": "2025-03-06T17:52:36.702432Z"
    },
    "jupyter": {
     "outputs_hidden": false
    },
    "papermill": {
     "duration": 0.017748,
     "end_time": "2025-03-06T17:52:36.704051",
     "exception": false,
     "start_time": "2025-03-06T17:52:36.686303",
     "status": "completed"
    },
    "tags": []
   },
   "outputs": [],
   "source": [
    "skip_prediction = False"
   ]
  },
  {
   "cell_type": "code",
   "execution_count": 23,
   "id": "21d6cebe",
   "metadata": {
    "_cell_guid": "bbbf2217-ac29-4d86-bffd-afe648ae1167",
    "_kg_hide-output": true,
    "_uuid": "e03ade0d-f48f-4682-888e-bd8d258767f3",
    "collapsed": false,
    "execution": {
     "iopub.execute_input": "2025-03-06T17:52:36.731513Z",
     "iopub.status.busy": "2025-03-06T17:52:36.731297Z",
     "iopub.status.idle": "2025-03-06T17:57:41.453370Z",
     "shell.execute_reply": "2025-03-06T17:57:41.452618Z"
    },
    "jupyter": {
     "outputs_hidden": false
    },
    "papermill": {
     "duration": 304.737409,
     "end_time": "2025-03-06T17:57:41.454966",
     "exception": false,
     "start_time": "2025-03-06T17:52:36.717557",
     "status": "completed"
    },
    "tags": []
   },
   "outputs": [
    {
     "name": "stdout",
     "output_type": "stream",
     "text": [
      "Existing uv installation found. Skipping uv installation.\n",
      "Installing Python 3.11...\n",
      "get_selection_query [4197, 4197, 4197, 4197, 4197, 4197]\n"
     ]
    },
    {
     "name": "stderr",
     "output_type": "stream",
     "text": [
      "Processed prompts: 100%|██████████| 6/6 [01:03<00:00, 10.57s/it, est. speed input: 397.18 toks/s, output: 88.73 toks/s]\n"
     ]
    },
    {
     "name": "stdout",
     "output_type": "stream",
     "text": [
      "get_selection_query [830, 720, 747, 1335, 925, 1069]\n",
      "get_patch_string [10632, 817, 878, 10633]\n"
     ]
    },
    {
     "name": "stderr",
     "output_type": "stream",
     "text": [
      "Processed prompts: 100%|██████████| 4/4 [03:09<00:00, 47.32s/it, est. speed input: 121.29 toks/s, output: 52.23 toks/s]\n"
     ]
    },
    {
     "name": "stdout",
     "output_type": "stream",
     "text": [
      "get_patch_string [2605, 1620, 3081, 2581]\n",
      "[3, 5]\n",
      "get_verification [925, 10715]\n"
     ]
    },
    {
     "name": "stderr",
     "output_type": "stream",
     "text": [
      "Processed prompts: 100%|██████████| 2/2 [00:39<00:00, 19.59s/it, est. speed input: 297.08 toks/s, output: 25.55 toks/s]\n"
     ]
    },
    {
     "name": "stdout",
     "output_type": "stream",
     "text": [
      "get_verification [487, 513]\n",
      "[True, True]\n",
      "[[], [], [], [True], [], [True]]\n",
      "Skipping issue due to low confidence (Threshold: 5)\n",
      "submitted patch_string\n",
      "None\n"
     ]
    }
   ],
   "source": [
    "inference_server = (\n",
    "    kaggle_evaluation.konwinski_prize_inference_server.KPrizeInferenceServer(\n",
    "        get_number_of_instances, predict\n",
    "    )\n",
    ")\n",
    "\n",
    "if os.getenv(\"KAGGLE_IS_COMPETITION_RERUN\"):\n",
    "    inference_server.serve()\n",
    "else:\n",
    "    inference_server.run_local_gateway(\n",
    "        data_paths=(\n",
    "            \"/kaggle/input/konwinski-prize/\",  # Path to the entire competition dataset\n",
    "            \"/kaggle/tmp/konwinski-prize/\",  # Path to a scratch directory for unpacking data.a_zip.\n",
    "        ),  # type: ignore\n",
    "        \n",
    "        use_concurrency=True,\n",
    "    )"
   ]
  },
  {
   "cell_type": "code",
   "execution_count": null,
   "id": "7f8fc8cc",
   "metadata": {
    "_cell_guid": "b73f8a85-f747-4a0d-9598-6bf418752bc6",
    "_uuid": "86683ecc-947a-444b-b073-352bf009e91c",
    "collapsed": false,
    "jupyter": {
     "outputs_hidden": false
    },
    "papermill": {
     "duration": 0.014834,
     "end_time": "2025-03-06T17:57:41.485716",
     "exception": false,
     "start_time": "2025-03-06T17:57:41.470882",
     "status": "completed"
    },
    "tags": []
   },
   "outputs": [],
   "source": []
  }
 ],
 "metadata": {
  "kaggle": {
   "accelerator": "nvidiaL4",
   "dataSources": [
    {
     "databundleVersionId": 10934030,
     "sourceId": 84795,
     "sourceType": "competition"
    },
    {
     "sourceId": 221096520,
     "sourceType": "kernelVersion"
    },
    {
     "isSourceIdPinned": true,
     "modelId": 164048,
     "modelInstanceId": 141476,
     "sourceId": 166265,
     "sourceType": "modelInstanceVersion"
    },
    {
     "isSourceIdPinned": true,
     "modelId": 164048,
     "modelInstanceId": 145925,
     "sourceId": 171459,
     "sourceType": "modelInstanceVersion"
    },
    {
     "modelId": 224071,
     "modelInstanceId": 202348,
     "sourceId": 236932,
     "sourceType": "modelInstanceVersion"
    },
    {
     "modelId": 224071,
     "modelInstanceId": 202436,
     "sourceId": 237029,
     "sourceType": "modelInstanceVersion"
    },
    {
     "modelId": 225262,
     "modelInstanceId": 205979,
     "sourceId": 256551,
     "sourceType": "modelInstanceVersion"
    },
    {
     "modelId": 225262,
     "modelInstanceId": 204048,
     "sourceId": 256580,
     "sourceType": "modelInstanceVersion"
    },
    {
     "modelId": 224053,
     "modelInstanceId": 227466,
     "sourceId": 265863,
     "sourceType": "modelInstanceVersion"
    }
   ],
   "isGpuEnabled": true,
   "isInternetEnabled": false,
   "language": "python",
   "sourceType": "notebook"
  },
  "kernelspec": {
   "display_name": "Python 3",
   "language": "python",
   "name": "python3"
  },
  "language_info": {
   "codemirror_mode": {
    "name": "ipython",
    "version": 3
   },
   "file_extension": ".py",
   "mimetype": "text/x-python",
   "name": "python",
   "nbconvert_exporter": "python",
   "pygments_lexer": "ipython3",
   "version": "3.10.12"
  },
  "papermill": {
   "default_parameters": {},
   "duration": 636.704274,
   "end_time": "2025-03-06T17:57:45.219650",
   "environment_variables": {},
   "exception": null,
   "input_path": "__notebook__.ipynb",
   "output_path": "__notebook__.ipynb",
   "parameters": {},
   "start_time": "2025-03-06T17:47:08.515376",
   "version": "2.6.0"
  },
  "widgets": {
   "application/vnd.jupyter.widget-state+json": {
    "state": {
     "0f2091aafae84fa3b13882a585b299c3": {
      "model_module": "@jupyter-widgets/controls",
      "model_module_version": "2.0.0",
      "model_name": "FloatProgressModel",
      "state": {
       "_dom_classes": [],
       "_model_module": "@jupyter-widgets/controls",
       "_model_module_version": "2.0.0",
       "_model_name": "FloatProgressModel",
       "_view_count": null,
       "_view_module": "@jupyter-widgets/controls",
       "_view_module_version": "2.0.0",
       "_view_name": "ProgressView",
       "bar_style": "success",
       "description": "",
       "description_allow_html": false,
       "layout": "IPY_MODEL_8da4e1b7dd0a41e9a39d778408e295a9",
       "max": 4.0,
       "min": 0.0,
       "orientation": "horizontal",
       "style": "IPY_MODEL_4fc3354b03d247d39df1ea947e5681b5",
       "tabbable": null,
       "tooltip": null,
       "value": 4.0
      }
     },
     "2bb0b56d71b942be941f6b80f4a3d47c": {
      "model_module": "@jupyter-widgets/controls",
      "model_module_version": "2.0.0",
      "model_name": "HBoxModel",
      "state": {
       "_dom_classes": [],
       "_model_module": "@jupyter-widgets/controls",
       "_model_module_version": "2.0.0",
       "_model_name": "HBoxModel",
       "_view_count": null,
       "_view_module": "@jupyter-widgets/controls",
       "_view_module_version": "2.0.0",
       "_view_name": "HBoxView",
       "box_style": "",
       "children": [
        "IPY_MODEL_e864875aae004179a58ac1843aa007aa",
        "IPY_MODEL_0f2091aafae84fa3b13882a585b299c3",
        "IPY_MODEL_e6dfc529b9f14baeab54110d7f1c0891"
       ],
       "layout": "IPY_MODEL_bcd724c495dd4c3d925da2e4e77b8ca6",
       "tabbable": null,
       "tooltip": null
      }
     },
     "4fc3354b03d247d39df1ea947e5681b5": {
      "model_module": "@jupyter-widgets/controls",
      "model_module_version": "2.0.0",
      "model_name": "ProgressStyleModel",
      "state": {
       "_model_module": "@jupyter-widgets/controls",
       "_model_module_version": "2.0.0",
       "_model_name": "ProgressStyleModel",
       "_view_count": null,
       "_view_module": "@jupyter-widgets/base",
       "_view_module_version": "2.0.0",
       "_view_name": "StyleView",
       "bar_color": null,
       "description_width": ""
      }
     },
     "8da4e1b7dd0a41e9a39d778408e295a9": {
      "model_module": "@jupyter-widgets/base",
      "model_module_version": "2.0.0",
      "model_name": "LayoutModel",
      "state": {
       "_model_module": "@jupyter-widgets/base",
       "_model_module_version": "2.0.0",
       "_model_name": "LayoutModel",
       "_view_count": null,
       "_view_module": "@jupyter-widgets/base",
       "_view_module_version": "2.0.0",
       "_view_name": "LayoutView",
       "align_content": null,
       "align_items": null,
       "align_self": null,
       "border_bottom": null,
       "border_left": null,
       "border_right": null,
       "border_top": null,
       "bottom": null,
       "display": null,
       "flex": null,
       "flex_flow": null,
       "grid_area": null,
       "grid_auto_columns": null,
       "grid_auto_flow": null,
       "grid_auto_rows": null,
       "grid_column": null,
       "grid_gap": null,
       "grid_row": null,
       "grid_template_areas": null,
       "grid_template_columns": null,
       "grid_template_rows": null,
       "height": null,
       "justify_content": null,
       "justify_items": null,
       "left": null,
       "margin": null,
       "max_height": null,
       "max_width": null,
       "min_height": null,
       "min_width": null,
       "object_fit": null,
       "object_position": null,
       "order": null,
       "overflow": null,
       "padding": null,
       "right": null,
       "top": null,
       "visibility": null,
       "width": null
      }
     },
     "b3cbb77e27ac42fbae46e3381477088c": {
      "model_module": "@jupyter-widgets/base",
      "model_module_version": "2.0.0",
      "model_name": "LayoutModel",
      "state": {
       "_model_module": "@jupyter-widgets/base",
       "_model_module_version": "2.0.0",
       "_model_name": "LayoutModel",
       "_view_count": null,
       "_view_module": "@jupyter-widgets/base",
       "_view_module_version": "2.0.0",
       "_view_name": "LayoutView",
       "align_content": null,
       "align_items": null,
       "align_self": null,
       "border_bottom": null,
       "border_left": null,
       "border_right": null,
       "border_top": null,
       "bottom": null,
       "display": null,
       "flex": null,
       "flex_flow": null,
       "grid_area": null,
       "grid_auto_columns": null,
       "grid_auto_flow": null,
       "grid_auto_rows": null,
       "grid_column": null,
       "grid_gap": null,
       "grid_row": null,
       "grid_template_areas": null,
       "grid_template_columns": null,
       "grid_template_rows": null,
       "height": null,
       "justify_content": null,
       "justify_items": null,
       "left": null,
       "margin": null,
       "max_height": null,
       "max_width": null,
       "min_height": null,
       "min_width": null,
       "object_fit": null,
       "object_position": null,
       "order": null,
       "overflow": null,
       "padding": null,
       "right": null,
       "top": null,
       "visibility": null,
       "width": null
      }
     },
     "b8c75ff21edc4f90912ad943e700b55b": {
      "model_module": "@jupyter-widgets/base",
      "model_module_version": "2.0.0",
      "model_name": "LayoutModel",
      "state": {
       "_model_module": "@jupyter-widgets/base",
       "_model_module_version": "2.0.0",
       "_model_name": "LayoutModel",
       "_view_count": null,
       "_view_module": "@jupyter-widgets/base",
       "_view_module_version": "2.0.0",
       "_view_name": "LayoutView",
       "align_content": null,
       "align_items": null,
       "align_self": null,
       "border_bottom": null,
       "border_left": null,
       "border_right": null,
       "border_top": null,
       "bottom": null,
       "display": null,
       "flex": null,
       "flex_flow": null,
       "grid_area": null,
       "grid_auto_columns": null,
       "grid_auto_flow": null,
       "grid_auto_rows": null,
       "grid_column": null,
       "grid_gap": null,
       "grid_row": null,
       "grid_template_areas": null,
       "grid_template_columns": null,
       "grid_template_rows": null,
       "height": null,
       "justify_content": null,
       "justify_items": null,
       "left": null,
       "margin": null,
       "max_height": null,
       "max_width": null,
       "min_height": null,
       "min_width": null,
       "object_fit": null,
       "object_position": null,
       "order": null,
       "overflow": null,
       "padding": null,
       "right": null,
       "top": null,
       "visibility": null,
       "width": null
      }
     },
     "bcd724c495dd4c3d925da2e4e77b8ca6": {
      "model_module": "@jupyter-widgets/base",
      "model_module_version": "2.0.0",
      "model_name": "LayoutModel",
      "state": {
       "_model_module": "@jupyter-widgets/base",
       "_model_module_version": "2.0.0",
       "_model_name": "LayoutModel",
       "_view_count": null,
       "_view_module": "@jupyter-widgets/base",
       "_view_module_version": "2.0.0",
       "_view_name": "LayoutView",
       "align_content": null,
       "align_items": null,
       "align_self": null,
       "border_bottom": null,
       "border_left": null,
       "border_right": null,
       "border_top": null,
       "bottom": null,
       "display": null,
       "flex": null,
       "flex_flow": null,
       "grid_area": null,
       "grid_auto_columns": null,
       "grid_auto_flow": null,
       "grid_auto_rows": null,
       "grid_column": null,
       "grid_gap": null,
       "grid_row": null,
       "grid_template_areas": null,
       "grid_template_columns": null,
       "grid_template_rows": null,
       "height": null,
       "justify_content": null,
       "justify_items": null,
       "left": null,
       "margin": null,
       "max_height": null,
       "max_width": null,
       "min_height": null,
       "min_width": null,
       "object_fit": null,
       "object_position": null,
       "order": null,
       "overflow": null,
       "padding": null,
       "right": null,
       "top": null,
       "visibility": null,
       "width": null
      }
     },
     "c1a407957aab4b00ba97c2443688f7f2": {
      "model_module": "@jupyter-widgets/controls",
      "model_module_version": "2.0.0",
      "model_name": "HTMLStyleModel",
      "state": {
       "_model_module": "@jupyter-widgets/controls",
       "_model_module_version": "2.0.0",
       "_model_name": "HTMLStyleModel",
       "_view_count": null,
       "_view_module": "@jupyter-widgets/base",
       "_view_module_version": "2.0.0",
       "_view_name": "StyleView",
       "background": null,
       "description_width": "",
       "font_size": null,
       "text_color": null
      }
     },
     "e6dfc529b9f14baeab54110d7f1c0891": {
      "model_module": "@jupyter-widgets/controls",
      "model_module_version": "2.0.0",
      "model_name": "HTMLModel",
      "state": {
       "_dom_classes": [],
       "_model_module": "@jupyter-widgets/controls",
       "_model_module_version": "2.0.0",
       "_model_name": "HTMLModel",
       "_view_count": null,
       "_view_module": "@jupyter-widgets/controls",
       "_view_module_version": "2.0.0",
       "_view_name": "HTMLView",
       "description": "",
       "description_allow_html": false,
       "layout": "IPY_MODEL_b3cbb77e27ac42fbae46e3381477088c",
       "placeholder": "​",
       "style": "IPY_MODEL_f77b4e4acff84dff9728d05f83e860ed",
       "tabbable": null,
       "tooltip": null,
       "value": "Loading safetensors checkpoint shards: 100% Completed | 4/4 [02:33&lt;00:00, 38.54s/it]\n"
      }
     },
     "e864875aae004179a58ac1843aa007aa": {
      "model_module": "@jupyter-widgets/controls",
      "model_module_version": "2.0.0",
      "model_name": "HTMLModel",
      "state": {
       "_dom_classes": [],
       "_model_module": "@jupyter-widgets/controls",
       "_model_module_version": "2.0.0",
       "_model_name": "HTMLModel",
       "_view_count": null,
       "_view_module": "@jupyter-widgets/controls",
       "_view_module_version": "2.0.0",
       "_view_name": "HTMLView",
       "description": "",
       "description_allow_html": false,
       "layout": "IPY_MODEL_b8c75ff21edc4f90912ad943e700b55b",
       "placeholder": "​",
       "style": "IPY_MODEL_c1a407957aab4b00ba97c2443688f7f2",
       "tabbable": null,
       "tooltip": null,
       "value": ""
      }
     },
     "f77b4e4acff84dff9728d05f83e860ed": {
      "model_module": "@jupyter-widgets/controls",
      "model_module_version": "2.0.0",
      "model_name": "HTMLStyleModel",
      "state": {
       "_model_module": "@jupyter-widgets/controls",
       "_model_module_version": "2.0.0",
       "_model_name": "HTMLStyleModel",
       "_view_count": null,
       "_view_module": "@jupyter-widgets/base",
       "_view_module_version": "2.0.0",
       "_view_name": "StyleView",
       "background": null,
       "description_width": "",
       "font_size": null,
       "text_color": null
      }
     }
    },
    "version_major": 2,
    "version_minor": 0
   }
  }
 },
 "nbformat": 4,
 "nbformat_minor": 5
}
